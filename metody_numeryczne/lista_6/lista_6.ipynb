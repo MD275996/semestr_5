{
 "cells": [
  {
   "cell_type": "code",
   "execution_count": 175,
   "metadata": {},
   "outputs": [],
   "source": [
    "import numpy as np\n",
    "import matplotlib.pyplot as plt\n",
    "import math\n",
    "import pandas as pd"
   ]
  },
  {
   "cell_type": "code",
   "execution_count": 176,
   "metadata": {},
   "outputs": [],
   "source": [
    "#źródło: wykład 8 strona 23\n",
    "def simpson(f,a,b,N = 50):\n",
    "    \"\"\"\n",
    "    oblicza wartość całki przybliżając funkcję podcałkową za pomocą parabol oraz sumując ich powierzchnię\n",
    "    \"\"\"\n",
    "    if N % 2 == 1:\n",
    "        raise ValueError(\"N must be an even integer.\")\n",
    "    dx = (b-a)/N\n",
    "    x = np.linspace(a,b,N+1)\n",
    "    y = f(x)\n",
    "    S = dx/3 * np.sum(y[0:-1:2] + 4*y[1::2] + y[2::2])\n",
    "    return S\n",
    "\n",
    "def trapez(f, a, b, n):\n",
    "    \"\"\"\n",
    "    oblicza wartość całki przybliżając funkcję podcałkową za pomocą trapezów oraz sumując ich powierzchnię\n",
    "    \"\"\"\n",
    "    x = np.linspace(a, b, n)\n",
    "    y = f(x)\n",
    "    dx = (b - a) / (n - 1)\n",
    "    S = dx * (0.5 * y[0] + np.sum(y[1:-1]) + 0.5 * y[-1])\n",
    "    return S\n",
    "\n",
    "#źródło: kody do wykładu 8\n",
    "def gaussNodes(m, tol = 10e-9):\n",
    "    def legendre(t,m):\n",
    "        p0 = 1.0; p1 = t\n",
    "        for k in range(1,m):\n",
    "            p = ((2.0*k + 1.0)*t*p1 - k*p0)/(1.0 + k )\n",
    "            p0 = p1; p1 = p\n",
    "        dp = m*(p0 - t*p1)/(1.0 - t**2)\n",
    "        return p,dp\n",
    "    \n",
    "    A = np.zeros(m)\n",
    "    x = np.zeros(m)\n",
    "    nRoots = int((m + 1)/2) # liczba nieujemnych pierwiastków\n",
    "\n",
    "    for i in range(nRoots):\n",
    "        t = math.cos(math.pi*(i + 0.75)/(m + 0.5))# przybliżony pierwiastek\n",
    "\n",
    "        for j in range(30):\n",
    "            p,dp = legendre(t,m)# metoda Newtona-Raphsona\n",
    "            dt = -p/dp; t = t + dt# \n",
    "            if abs(dt) < tol:\n",
    "                x[i] = t; x[m-i-1] = -t\n",
    "                A[i] = 2.0/(1.0 - t**2)/(dp**2) # Eq.(6.25)\n",
    "                A[m-i-1] = A[i]\n",
    "                break\n",
    "    return x,A\n",
    "\n",
    "def Gauss_Legendre(f,a,b,m):\n",
    "    c1 = (b + a)/2.0\n",
    "    c2 = (b - a)/2.0\n",
    "    x,A = gaussNodes(m)\n",
    "    sum = 0.0\n",
    "    for i in range(len(x)):\n",
    "        sum = sum + A[i]*f(c1 + c2*x[i])\n",
    "    return c2*sum"
   ]
  },
  {
   "cell_type": "markdown",
   "metadata": {},
   "source": [
    "# Zadanie 1\n"
   ]
  },
  {
   "cell_type": "code",
   "execution_count": 177,
   "metadata": {},
   "outputs": [
    {
     "name": "stdout",
     "output_type": "stream",
     "text": [
      "Czas przyspieszenia: 1.2774274572829991 s\n"
     ]
    }
   ],
   "source": [
    "v = np.array([1.0, 1.8, 2.4, 3.5, 4.4, 5.1, 6.0])  # m/s\n",
    "P = np.array([4.7, 12.2, 19.0, 31.8, 40.1, 43.8, 43.2])  #  kW\n",
    "\n",
    "m = 2000\n",
    "#należy zamienić kW na W aby wzór się uprościł\n",
    "P = P * 1000\n",
    "\n",
    "# Funkcja podcałkowa\n",
    "def integrand(v_query):\n",
    "    P_query = np.interp(v_query, v, P)\n",
    "    return v_query / P_query\n",
    "\n",
    "a, b = 1.0, 6.0\n",
    "N = 50\n",
    "\n",
    "d_t = m * simpson(integrand, a, b, N)\n",
    "print(\"Czas przyspieszenia: {} s\".format(d_t))"
   ]
  },
  {
   "cell_type": "markdown",
   "metadata": {},
   "source": [
    "# Zadanie 2"
   ]
  },
  {
   "cell_type": "code",
   "execution_count": 178,
   "metadata": {},
   "outputs": [
    {
     "name": "stdout",
     "output_type": "stream",
     "text": [
      "Całka dla 3 węzłów: -0.6666666666666666\n",
      "Całka dla 5 węzłów: -0.6666666666666665\n",
      "Całka dla 7 węzłów: -0.6666666666666667\n"
     ]
    }
   ],
   "source": [
    "def f(x):\n",
    "    return np.cos(2 * np.arccos(x))\n",
    "\n",
    "a = -1\n",
    "b = 1\n",
    "\n",
    "nodes = [3, 5, 7]\n",
    "    \n",
    "for n in nodes:\n",
    "    N = n - 1\n",
    "    result = simpson(f, a, b, N)\n",
    "    print(\"Całka dla {} węzłów: {}\".format(n,result))"
   ]
  },
  {
   "cell_type": "markdown",
   "metadata": {},
   "source": [
    "Przekształcimy naszą funkcję podcałkową korzystając z własności trygonometrycznej\n",
    "$$\n",
    "cos(2\\alpha) = 2cos^2(\\alpha) - 1\n",
    "$$\n",
    "Używając tego w naszej funkcji otrzymujemy\n",
    "$$\n",
    "f(x) = cos(2cos^{-1}(x)) = 2cos^2(cos^{-1}(x)) - 1\n",
    "$$\n",
    "Skraca nam się złożenie funkcji odwrotnych:\n",
    "$$\n",
    "f(f(x)^{-1}) = x\n",
    "$$\n",
    "Zatem mamy\n",
    "$$\n",
    "f(x) = 2cos^2(cos^{-1}(x)) - 1 = 2x^2 - 1\n",
    "$$\n",
    "Stąd w rzeczywistości operujemy na funkcji kwadratowej. Metoda Simpsona korzysta z przybliżeń za pomocą paraboli, dlatego w tym przypadku przybliżenia te będą dokładne niezależnie od obranej ilości węzłów."
   ]
  },
  {
   "cell_type": "markdown",
   "metadata": {},
   "source": [
    "# Zadanie 3"
   ]
  },
  {
   "cell_type": "markdown",
   "metadata": {},
   "source": [
    "Do policzenia całki z zadania zastosujemy dane podstawienie:\n",
    "$$\n",
    "x = \\frac{1}{t^{\\frac{1}{3}}}\n",
    "$$\n",
    "$$\n",
    "dx = -\\frac{1}{3}\\frac{1}{t^{\\frac{4}{3}}}dt\n",
    "$$\n",
    "Należy pamiętać o zamianie granic całkowania\n",
    "$$\n",
    "\\int_1^{\\infty} \\frac{1}{1+x^4}dx = \\int_1^0 \\frac{1}{1+(\\frac{1}{t^{\\frac{1}{3}}})^4}(-\\frac{1}{3}\\frac{1}{t^{\\frac{4}{3}}})dt = -\\frac{1}{3}\\int_1^0\\frac{1}{1+t^{\\frac{4}{3}}} dt = \\frac{1}{3}\\int_0^1\\frac{1}{1+t^{\\frac{4}{3}}} dt\n",
    "$$\n",
    "Tą funkcję podcałkową możemy teraz zastosować w obliczeniach"
   ]
  },
  {
   "cell_type": "code",
   "execution_count": 179,
   "metadata": {},
   "outputs": [
    {
     "name": "stdout",
     "output_type": "stream",
     "text": [
      "Całka: 0.24369830404429738\n"
     ]
    }
   ],
   "source": [
    "def integrand(t):\n",
    "    return (1/3) * (1/(1 + t**(4/3)))\n",
    "\n",
    "# Obliczenia\n",
    "a, b = 0, 1\n",
    "n = 6\n",
    "result = trapez(integrand, a, b, n)\n",
    "print(\"Całka: {}\".format(result))"
   ]
  },
  {
   "cell_type": "markdown",
   "metadata": {},
   "source": [
    "# Zadanie 4"
   ]
  },
  {
   "cell_type": "code",
   "execution_count": 180,
   "metadata": {},
   "outputs": [
    {
     "name": "stdout",
     "output_type": "stream",
     "text": [
      "h(15◦) = 1.5775516607636664\n",
      "h(30◦) = 1.59814200211254\n",
      "h(45◦) = 1.633586307458148\n",
      "Sprawdzenie h(0) = π/2\n",
      "h(0) = 1.5707963267948966\n"
     ]
    }
   ],
   "source": [
    "a = 0\n",
    "b= np.pi/2\n",
    "n=100\n",
    "\n",
    "def h(theta_0):\n",
    "    def integral_function(theta):\n",
    "        return np.power(1-(np.sin(theta_0/2)*np.sin(theta))**2,-1/2)\n",
    "    return trapez(integral_function, a, b, n )\n",
    "\n",
    "print(\"h(15◦) = {}\".format(h(np.pi/12)))\n",
    "print(\"h(30◦) = {}\".format(h(np.pi/6)))\n",
    "print(\"h(45◦) = {}\".format(h(np.pi/4)))\n",
    "\n",
    "print(\"Sprawdzenie h(0) = π/2\")\n",
    "print(\"h(0) = {}\".format(h(0)))"
   ]
  },
  {
   "cell_type": "markdown",
   "metadata": {},
   "source": [
    "# Zadanie 5"
   ]
  },
  {
   "cell_type": "code",
   "execution_count": 181,
   "metadata": {},
   "outputs": [
    {
     "name": "stdout",
     "output_type": "stream",
     "text": [
      "Metoda Gaussa-Legendre’a dla 2 węzłów: -0.13045368428072837\n",
      "Metoda Gaussa-Legendre’a dla 4 węzłów: -0.01138250740300718\n"
     ]
    }
   ],
   "source": [
    "a = 0\n",
    "b = np.pi\n",
    "m_1 = 2\n",
    "m_2 = 4\n",
    "\n",
    "def integral_function_5(x):\n",
    "    return np.log(x)/(x**2 - 2*x + 2)\n",
    "\n",
    "print(\"Metoda Gaussa-Legendre’a dla 2 węzłów: {}\".format(Gauss_Legendre(integral_function_5,a,b,m_1)))\n",
    "print(\"Metoda Gaussa-Legendre’a dla 4 węzłów: {}\".format(Gauss_Legendre(integral_function_5,a,b,m_2)))"
   ]
  },
  {
   "cell_type": "markdown",
   "metadata": {},
   "source": [
    "# Zadanie 6"
   ]
  },
  {
   "cell_type": "code",
   "execution_count": 182,
   "metadata": {},
   "outputs": [],
   "source": [
    "#wszystkie potrzebne dane\n",
    "def D_f1(f,x,h):\n",
    "    return (f(x+h)-f(x))/h\n",
    "\n",
    "# def D_c2(f,x,h):\n",
    "    # return (f(x+h)-f(x-h))/(2*h)\n",
    "\n",
    "def D_c2(f,x,h):\n",
    "    return (f(x)-f(x-h))/(h)\n",
    " \n",
    "# def D_c4(f,x,h):\n",
    "    # return (2*D_c2(f,x,h)) - D_c2(f,x,2*h)\n",
    "\n",
    "def D_c4(f,x,h):\n",
    "    return (f(x+h)-f(x-h))/(2*h)\n",
    "\n",
    "def f_1(x):\n",
    "    return x**3-2*x\n",
    "\n",
    "def f_2(x):\n",
    "    return np.sin(x)\n",
    "\n",
    "def f_3(x):\n",
    "    return np.exp(x)\n",
    "\n",
    "h = [0.1, 0.01, 0.001]"
   ]
  },
  {
   "cell_type": "code",
   "execution_count": 183,
   "metadata": {},
   "outputs": [],
   "source": [
    "diff_f_1 = 1    # x = 1\n",
    "diff_f_2 = 1/2  # x = np.pi/3\n",
    "diff_f_3 = 1    # x = 0\n",
    "\n",
    "x_1 = 1\n",
    "x_2 = np.pi/3\n",
    "x_3 = 0\n",
    "\n",
    "h_values = [0.1, 0.01, 0.001]\n"
   ]
  },
  {
   "cell_type": "code",
   "execution_count": 184,
   "metadata": {},
   "outputs": [
    {
     "name": "stdout",
     "output_type": "stream",
     "text": [
      "Dla pochodnej f'(1)=1 funkcji f_1\n"
     ]
    },
    {
     "data": {
      "text/html": [
       "<div>\n",
       "<style scoped>\n",
       "    .dataframe tbody tr th:only-of-type {\n",
       "        vertical-align: middle;\n",
       "    }\n",
       "\n",
       "    .dataframe tbody tr th {\n",
       "        vertical-align: top;\n",
       "    }\n",
       "\n",
       "    .dataframe thead th {\n",
       "        text-align: right;\n",
       "    }\n",
       "</style>\n",
       "<table border=\"1\" class=\"dataframe\">\n",
       "  <thead>\n",
       "    <tr style=\"text-align: right;\">\n",
       "      <th></th>\n",
       "      <th>h</th>\n",
       "      <th>f ′(x) − Df</th>\n",
       "      <th>f ′(x) − Dc2</th>\n",
       "      <th>f ′(x) − Dc4</th>\n",
       "    </tr>\n",
       "  </thead>\n",
       "  <tbody>\n",
       "    <tr>\n",
       "      <th>0</th>\n",
       "      <td>0.100</td>\n",
       "      <td>-0.310000</td>\n",
       "      <td>0.290000</td>\n",
       "      <td>-1.000000e-02</td>\n",
       "    </tr>\n",
       "    <tr>\n",
       "      <th>1</th>\n",
       "      <td>0.010</td>\n",
       "      <td>-0.030100</td>\n",
       "      <td>0.029900</td>\n",
       "      <td>-1.000000e-04</td>\n",
       "    </tr>\n",
       "    <tr>\n",
       "      <th>2</th>\n",
       "      <td>0.001</td>\n",
       "      <td>-0.003001</td>\n",
       "      <td>0.002999</td>\n",
       "      <td>-1.000000e-06</td>\n",
       "    </tr>\n",
       "  </tbody>\n",
       "</table>\n",
       "</div>"
      ],
      "text/plain": [
       "       h  f ′(x) − Df  f ′(x) − Dc2  f ′(x) − Dc4\n",
       "0  0.100    -0.310000      0.290000 -1.000000e-02\n",
       "1  0.010    -0.030100      0.029900 -1.000000e-04\n",
       "2  0.001    -0.003001      0.002999 -1.000000e-06"
      ]
     },
     "execution_count": 184,
     "metadata": {},
     "output_type": "execute_result"
    }
   ],
   "source": [
    "rows = []\n",
    "for h in h_values:\n",
    "    row = {\n",
    "        \"h\": h,\n",
    "        \"f ′(x) − Df\": diff_f_1 - D_f1(f_1,x_1,h),\n",
    "        \"f ′(x) − Dc2\": diff_f_1 - D_c2(f_1,x_1,h),\n",
    "        \"f ′(x) − Dc4\": diff_f_1 - D_c4(f_1,x_1,h)\n",
    "    }\n",
    "    rows.append(row)\n",
    "\n",
    "# Tworzenie tabeli z pandas\n",
    "df = pd.DataFrame(rows)\n",
    "\n",
    "# Wyświetlenie tabeli\n",
    "print(\"Dla pochodnej f'(1)=1 funkcji f_1\")\n",
    "df"
   ]
  },
  {
   "cell_type": "code",
   "execution_count": 185,
   "metadata": {},
   "outputs": [
    {
     "name": "stdout",
     "output_type": "stream",
     "text": [
      "Dla pochodnej f'(π/3)=1/2 funkcji f_2\n"
     ]
    },
    {
     "data": {
      "text/html": [
       "<div>\n",
       "<style scoped>\n",
       "    .dataframe tbody tr th:only-of-type {\n",
       "        vertical-align: middle;\n",
       "    }\n",
       "\n",
       "    .dataframe tbody tr th {\n",
       "        vertical-align: top;\n",
       "    }\n",
       "\n",
       "    .dataframe thead th {\n",
       "        text-align: right;\n",
       "    }\n",
       "</style>\n",
       "<table border=\"1\" class=\"dataframe\">\n",
       "  <thead>\n",
       "    <tr style=\"text-align: right;\">\n",
       "      <th></th>\n",
       "      <th>h</th>\n",
       "      <th>f ′(x) − Df</th>\n",
       "      <th>f ′(x) − Dc2</th>\n",
       "      <th>f ′(x) − Dc4</th>\n",
       "    </tr>\n",
       "  </thead>\n",
       "  <tbody>\n",
       "    <tr>\n",
       "      <th>0</th>\n",
       "      <td>0.100</td>\n",
       "      <td>0.044098</td>\n",
       "      <td>-0.042432</td>\n",
       "      <td>8.329168e-04</td>\n",
       "    </tr>\n",
       "    <tr>\n",
       "      <th>1</th>\n",
       "      <td>0.010</td>\n",
       "      <td>0.004338</td>\n",
       "      <td>-0.004322</td>\n",
       "      <td>8.333292e-06</td>\n",
       "    </tr>\n",
       "    <tr>\n",
       "      <th>2</th>\n",
       "      <td>0.001</td>\n",
       "      <td>0.000433</td>\n",
       "      <td>-0.000433</td>\n",
       "      <td>8.333340e-08</td>\n",
       "    </tr>\n",
       "  </tbody>\n",
       "</table>\n",
       "</div>"
      ],
      "text/plain": [
       "       h  f ′(x) − Df  f ′(x) − Dc2  f ′(x) − Dc4\n",
       "0  0.100     0.044098     -0.042432  8.329168e-04\n",
       "1  0.010     0.004338     -0.004322  8.333292e-06\n",
       "2  0.001     0.000433     -0.000433  8.333340e-08"
      ]
     },
     "execution_count": 185,
     "metadata": {},
     "output_type": "execute_result"
    }
   ],
   "source": [
    "rows = []\n",
    "for h in h_values:\n",
    "    row = {\n",
    "        \"h\": h,\n",
    "        \"f ′(x) − Df\": diff_f_2 - D_f1(f_2,x_2,h),\n",
    "        \"f ′(x) − Dc2\": diff_f_2 - D_c2(f_2,x_2,h),\n",
    "        \"f ′(x) − Dc4\": diff_f_2 - D_c4(f_2,x_2,h)\n",
    "    }\n",
    "    rows.append(row)\n",
    "\n",
    "# Tworzenie tabeli z pandas\n",
    "df = pd.DataFrame(rows)\n",
    "\n",
    "# Wyświetlenie tabeli\n",
    "print(\"Dla pochodnej f'(π/3)=1/2 funkcji f_2\")\n",
    "df"
   ]
  },
  {
   "cell_type": "code",
   "execution_count": 186,
   "metadata": {},
   "outputs": [
    {
     "name": "stdout",
     "output_type": "stream",
     "text": [
      "Dla pochodnej f'(0)=1 funkcji f_3\n"
     ]
    },
    {
     "data": {
      "text/html": [
       "<div>\n",
       "<style scoped>\n",
       "    .dataframe tbody tr th:only-of-type {\n",
       "        vertical-align: middle;\n",
       "    }\n",
       "\n",
       "    .dataframe tbody tr th {\n",
       "        vertical-align: top;\n",
       "    }\n",
       "\n",
       "    .dataframe thead th {\n",
       "        text-align: right;\n",
       "    }\n",
       "</style>\n",
       "<table border=\"1\" class=\"dataframe\">\n",
       "  <thead>\n",
       "    <tr style=\"text-align: right;\">\n",
       "      <th></th>\n",
       "      <th>h</th>\n",
       "      <th>f ′(x) − Df</th>\n",
       "      <th>f ′(x) − Dc2</th>\n",
       "      <th>f ′(x) − Dc4</th>\n",
       "    </tr>\n",
       "  </thead>\n",
       "  <tbody>\n",
       "    <tr>\n",
       "      <th>0</th>\n",
       "      <td>0.100</td>\n",
       "      <td>-0.051709</td>\n",
       "      <td>0.048374</td>\n",
       "      <td>-1.667500e-03</td>\n",
       "    </tr>\n",
       "    <tr>\n",
       "      <th>1</th>\n",
       "      <td>0.010</td>\n",
       "      <td>-0.005017</td>\n",
       "      <td>0.004983</td>\n",
       "      <td>-1.666675e-05</td>\n",
       "    </tr>\n",
       "    <tr>\n",
       "      <th>2</th>\n",
       "      <td>0.001</td>\n",
       "      <td>-0.000500</td>\n",
       "      <td>0.000500</td>\n",
       "      <td>-1.666667e-07</td>\n",
       "    </tr>\n",
       "  </tbody>\n",
       "</table>\n",
       "</div>"
      ],
      "text/plain": [
       "       h  f ′(x) − Df  f ′(x) − Dc2  f ′(x) − Dc4\n",
       "0  0.100    -0.051709      0.048374 -1.667500e-03\n",
       "1  0.010    -0.005017      0.004983 -1.666675e-05\n",
       "2  0.001    -0.000500      0.000500 -1.666667e-07"
      ]
     },
     "execution_count": 186,
     "metadata": {},
     "output_type": "execute_result"
    }
   ],
   "source": [
    "rows = []\n",
    "for h in h_values:\n",
    "    row = {\n",
    "        \"h\": h,\n",
    "        \"f ′(x) − Df\": diff_f_3 - D_f1(f_3,x_3,h),\n",
    "        \"f ′(x) − Dc2\": diff_f_3 - D_c2(f_3,x_3,h),\n",
    "        \"f ′(x) − Dc4\": diff_f_3 - D_c4(f_3,x_3,h)\n",
    "    }\n",
    "    rows.append(row)\n",
    "\n",
    "# Tworzenie tabeli z pandas\n",
    "df = pd.DataFrame(rows)\n",
    "\n",
    "# Wyświetlenie tabeli\n",
    "print(\"Dla pochodnej f'(0)=1 funkcji f_3\")\n",
    "df"
   ]
  },
  {
   "cell_type": "markdown",
   "metadata": {},
   "source": [
    "# Zadanie 7\n"
   ]
  },
  {
   "cell_type": "code",
   "execution_count": 187,
   "metadata": {},
   "outputs": [],
   "source": [
    "x_data = [0.1, 0.2, 0.3, 0.4]\n",
    "f_x = [0, 0.078348, 0.138910, 0.192916, 0.244981]\n",
    "h = 0.1\n",
    "x = 0.2"
   ]
  },
  {
   "cell_type": "markdown",
   "metadata": {},
   "source": [
    "Skorzystamy ze wzoru na różnicę centralną\n",
    "$$\n",
    "f'(x) = \\frac{f(x+h)-f(x-h)}{2h}\n",
    "$$\n",
    "przy $h = 0.1$ możemy podstawić wartości funkcji z tabeli\n",
    "$$\n",
    "f'(0.2) = \\frac{f(0.3)-f(0.1)}{0.2}\n",
    "$$"
   ]
  },
  {
   "cell_type": "code",
   "execution_count": 188,
   "metadata": {},
   "outputs": [
    {
     "name": "stdout",
     "output_type": "stream",
     "text": [
      "f'(0.2)=0.69455\n"
     ]
    }
   ],
   "source": [
    "diff_f = (f_x[2] - f_x[0])/(2*h)\n",
    "print(\"f'(0.2)={}\".format(diff_f))"
   ]
  },
  {
   "cell_type": "markdown",
   "metadata": {},
   "source": [
    "Możemy też wykorzystać wielomian interpolacyjny aby użyć mniejszych h"
   ]
  },
  {
   "cell_type": "code",
   "execution_count": 189,
   "metadata": {},
   "outputs": [],
   "source": [
    "def linint(xData, yData, x):\n",
    "    N = len(xData)\n",
    "    JL = 0; JU = N\n",
    "    while JU - JL > 1:\n",
    "        JM = (JU + JL) // 2\n",
    "        if (xData[-1] > xData[1]) == (x > xData[JM]):\n",
    "            JL = JM\n",
    "        else:\n",
    "            JU = JM\n",
    "    J = JL\n",
    "    dx = xData[J + 1] - xData[J]\n",
    "    df = yData[J + 1] - yData[J]\n",
    "    fx = df / dx * (x - xData[J]) + yData[J]\n",
    "    return fx"
   ]
  },
  {
   "cell_type": "code",
   "execution_count": 191,
   "metadata": {},
   "outputs": [
    {
     "name": "stdout",
     "output_type": "stream",
     "text": [
      "f'(0.2) przy h=0.01 : 0.6945500000000007\n",
      "f'(0.2) przy h=0.001 : 0.6945500000000021\n",
      "f'(0.2) przy h=1e-15 : 0.6938893903907228\n"
     ]
    }
   ],
   "source": [
    "\n",
    "x = 0.2\n",
    "h = 0.01 \n",
    "print(\"f'(0.2) przy h=0.01 : {}\".format((linint(x_data,f_x,x+h) - linint(x_data,f_x,x-h))/(2*h)))\n",
    "h = 0.001 \n",
    "print(\"f'(0.2) przy h=0.001 : {}\".format((linint(x_data,f_x,x+h) - linint(x_data,f_x,x-h))/(2*h)))\n",
    "h = 1e-15 \n",
    "print(\"f'(0.2) przy h=1e-15 : {}\".format((linint(x_data,f_x,x+h) - linint(x_data,f_x,x-h))/(2*h)))\n"
   ]
  },
  {
   "cell_type": "markdown",
   "metadata": {},
   "source": [
    "# Zadanie 8"
   ]
  },
  {
   "cell_type": "code",
   "execution_count": 192,
   "metadata": {},
   "outputs": [
    {
     "name": "stdout",
     "output_type": "stream",
     "text": [
      "f'(0) = -8.220002456482689\n",
      "f''(0) = 0.0\n"
     ]
    }
   ],
   "source": [
    "x_data = [-2.2, -0.3, 0.8, 1.9]\n",
    "f_x = [15.18, 10.962, 1.92 , -2.04]\n",
    "\n",
    "h =1e-10\n",
    "diff_f = (linint(x_data,f_x,h) - linint(x_data,f_x,-h))/(2*h)\n",
    "print(\"f'(0) = {}\".format(diff_f ))\n",
    "\n",
    "diff_diff_f = (linint(x_data,f_x,h) - 2*linint(x_data,f_x,0) + linint(x_data,f_x,-h))/(h**2)\n",
    "\n",
    "print(\"f''(0) = {}\".format(diff_diff_f ))"
   ]
  },
  {
   "cell_type": "markdown",
   "metadata": {},
   "source": [
    "Jak można zobaczyć na poniższym wykresie, dane układają się w trendzie liniowym, dlatego druga pochodna jest równa zero"
   ]
  },
  {
   "cell_type": "code",
   "execution_count": 193,
   "metadata": {},
   "outputs": [
    {
     "data": {
      "text/plain": [
       "<matplotlib.collections.PathCollection at 0x2380f7c8860>"
      ]
     },
     "execution_count": 193,
     "metadata": {},
     "output_type": "execute_result"
    },
    {
     "data": {
      "image/png": "[encoded data removed]",
      "text/plain": [
       "<Figure size 640x480 with 1 Axes>"
      ]
     },
     "metadata": {},
     "output_type": "display_data"
    }
   ],
   "source": [
    "plt.scatter(x_data,f_x)"
   ]
  }
 ],
 "metadata": {
  "kernelspec": {
   "display_name": "Python 3",
   "language": "python",
   "name": "python3"
  },
  "language_info": {
   "codemirror_mode": {
    "name": "ipython",
    "version": 3
   },
   "file_extension": ".py",
   "mimetype": "text/x-python",
   "name": "python",
   "nbconvert_exporter": "python",
   "pygments_lexer": "ipython3",
   "version": "3.12.2"
  }
 },
 "nbformat": 4,
 "nbformat_minor": 2
}
