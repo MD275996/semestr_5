{
 "cells": [
  {
   "cell_type": "code",
   "execution_count": 1,
   "metadata": {},
   "outputs": [],
   "source": [
    "import numpy as np\n",
    "import timeit\n",
    "import scipy.linalg\n",
    "import warnings\n",
    "import math\n",
    "import matplotlib.pyplot as plt\n",
    "import pandas as pd\n",
    "import random\n",
    "import cmath\n",
    "from scipy.interpolate import CubicSpline\n",
    "\n",
    "warnings.filterwarnings('ignore')"
   ]
  },
  {
   "cell_type": "markdown",
   "metadata": {},
   "source": [
    "# Dzień dobry\n",
    "\n",
    "na starcie wkleją implementację metod, których używałem już na wcześniejszych listach - lub pochodzą z prezentacji prof. Szwabińskiego.\n",
    "\n",
    "## Sim"
   ]
  },
  {
   "cell_type": "code",
   "execution_count": 2,
   "metadata": {},
   "outputs": [],
   "source": [
    "# Source: Kody do wykładu 8\n",
    "def simps(f,a,b,N=50):\n",
    "    #funkcja f musi być zwektoryzowana\n",
    "    if N % 2 == 1:\n",
    "        raise ValueError(\"N must be an even integer.\")\n",
    "    dx = (b-a)/N\n",
    "    x = np.linspace(a,b,N+1)\n",
    "    y = f(x)\n",
    "    S = dx/3 * np.sum(y[0:-1:2] + 4*y[1::2] + y[2::2])\n",
    "    return S"
   ]
  },
  {
   "cell_type": "markdown",
   "metadata": {},
   "source": [
    "## Kwadratura Gaussa-Legendre'a"
   ]
  },
  {
   "cell_type": "code",
   "execution_count": 3,
   "metadata": {},
   "outputs": [],
   "source": [
    "# Source: Kody do wykładu 8\n",
    "def gaussNodes(m,tol=10e-9):\n",
    "    def legendre(t,m):\n",
    "        p0 = 1.0; p1 = t\n",
    "        for k in range(1,m):\n",
    "            p = ((2.0*k + 1.0)*t*p1 - k*p0)/(1.0 + k )\n",
    "            p0 = p1; p1 = p\n",
    "        dp = m*(p0 - t*p1)/(1.0 - t**2)\n",
    "        return p,dp\n",
    "    \n",
    "    A = np.zeros(m)\n",
    "    x = np.zeros(m)\n",
    "    nRoots = int((m + 1)/2) # liczba nieujemnych pierwiastków\n",
    "\n",
    "    for i in range(nRoots):\n",
    "        t = math.cos(math.pi*(i + 0.75)/(m + 0.5))# przybliżony pierwiastek\n",
    "\n",
    "        for j in range(30):\n",
    "            p,dp = legendre(t,m)# metoda Newtona-Raphsona\n",
    "            dt = -p/dp; t = t + dt# \n",
    "            if abs(dt) < tol:\n",
    "                x[i] = t; x[m-i-1] = -t\n",
    "                A[i] = 2.0/(1.0 - t**2)/(dp**2) # Eq.(6.25)\n",
    "                A[m-i-1] = A[i]\n",
    "                break\n",
    "    return x,A"
   ]
  },
  {
   "cell_type": "code",
   "execution_count": 4,
   "metadata": {},
   "outputs": [],
   "source": [
    "def gaussQuad(f,a,b,m):\n",
    "    c1 = (b + a)/2.0\n",
    "    c2 = (b - a)/2.0\n",
    "    x,A = gaussNodes(m)\n",
    "    sum = 0.0\n",
    "    for i in range(len(x)):\n",
    "        sum = sum + A[i]*f(c1 + c2*x[i])\n",
    "    return c2*sum"
   ]
  },
  {
   "cell_type": "markdown",
   "metadata": {},
   "source": [
    "# zad 1"
   ]
  },
  {
   "cell_type": "code",
   "execution_count": 5,
   "metadata": {},
   "outputs": [
    {
     "name": "stdout",
     "output_type": "stream",
     "text": [
      "Czas przyspieszenia: 1.28 s\n"
     ]
    }
   ],
   "source": [
    "v = np.array([1.0, 1.8, 2.4, 3.5, 4.4, 5.1, 6.0])  # Prędkości (m/s)\n",
    "P = np.array([4.7, 12.2, 19.0, 31.8, 40.1, 43.8, 43.2])  # Moc (kW)\n",
    "\n",
    "# Konwersja jednostek\n",
    "P = P * 1000  # kW -> W\n",
    "m = 2000  # Masa w kg\n",
    "\n",
    "# Funkcja podcałkowa\n",
    "def integrand(v_query):\n",
    "    P_query = np.interp(v_query, v, P)\n",
    "    return v_query / P_query\n",
    "\n",
    "# Przedział całkowania\n",
    "v1, v2 = 1.0, 6.0\n",
    "\n",
    "# Liczba węzłów (parzysta)\n",
    "N = 50\n",
    "\n",
    "# Obliczenie czasu przyspieszenia\n",
    "delta_t = m * simps(integrand, v1, v2, N)\n",
    "print(f\"Czas przyspieszenia: {delta_t:.2f} s\")"
   ]
  },
  {
   "cell_type": "markdown",
   "metadata": {},
   "source": [
    "# zad 2"
   ]
  },
  {
   "cell_type": "code",
   "execution_count": 6,
   "metadata": {},
   "outputs": [
    {
     "name": "stdout",
     "output_type": "stream",
     "text": [
      "Całka dla 3 węzłów: -0.666667\n",
      "Całka dla 5 węzłów: -0.666667\n",
      "Całka dla 7 węzłów: -0.666667\n"
     ]
    }
   ],
   "source": [
    "# Funkcja podcałkowa\n",
    "def f(x):\n",
    "    return np.cos(2 * np.arccos(x))\n",
    "\n",
    "\n",
    "a, b = -1, 1\n",
    "\n",
    "nodes = [3, 5, 7]\n",
    "\n",
    "for n in nodes:\n",
    "    N = n - 1\n",
    "    result = simps(f, a, b, N)\n",
    "    print(f\"Całka dla {n} węzłów: {result:.6f}\")\n"
   ]
  },
  {
   "cell_type": "markdown",
   "metadata": {},
   "source": [
    "Zauważmy, że\n",
    "\n",
    "$$\n",
    "f(x) = \\cos\\big(2 \\cos^{-1}(x)\\big).\n",
    "$$\n",
    "\n",
    "Z tożsamości trygonometrycznej:\n",
    "$$\n",
    "\\cos(2\\theta) = 2\\cos^2(\\theta) - 1,\n",
    "$$\n",
    "gdzie $\\theta = \\cos^{-1}(x)$, wynika, że:\n",
    "$$\n",
    "\\cos\\big(2 \\cos^{-1}(x)\\big) = 2\\cos^2\\big(\\cos^{-1}(x)\\big) - 1.\n",
    "$$\n",
    "\n",
    "Dla $\\cos(\\cos^{-1}(x)) = x$, otrzymujemy:\n",
    "$$\n",
    "f(x) = 2x^2 - 1.\n",
    "$$\n",
    "\n",
    "W ten sposób funkcja podcałkowa została sprowadzona do wielomianu kwadratowego:\n",
    "$$\n",
    "f(x) = 2x^2 - 1.\n",
    "$$\n",
    "\n",
    "Wzór Simpsona działa dokładnie dla wielomianów stopnia co najwyżej trzeciego. Wynika to z faktu, że wzór Simpsona jest formą kwadratury numerycznej opartą na przybliżeniu funkcji wielomianem kwadratowym na każdym podprzedziale.\n",
    "\n",
    "Ponieważ funkcja f(x)=2x2−1f(x)=2x2−1 jest wielomianem stopnia 2, całka numeryczna obliczona przy użyciu wzoru Simpsona będzie dokładna niezależnie od liczby węzłów (o ile NN jest parzyste i wystarczające dla dokładności arytmetycznej)."
   ]
  },
  {
   "cell_type": "markdown",
   "metadata": {},
   "source": [
    "# zad 3"
   ]
  },
  {
   "cell_type": "markdown",
   "metadata": {},
   "source": [
    "Do policzenia całki z zadania zastosujemy dane podstawienie:\n",
    "$$\n",
    "x = \\frac{1}{t^{\\frac{1}{3}}}\n",
    "$$\n",
    "$$\n",
    "dx = -\\frac{1}{3}\\frac{1}{t^{\\frac{4}{3}}}dt\n",
    "$$\n",
    "Należy pamiętać o zamianie granic całkowania\n",
    "$$\n",
    "\\int_1^{\\infty} \\frac{1}{1+x^4}dx = \\int_1^0 \\frac{1}{1+(\\frac{1}{t^{\\frac{1}{3}}})^4}(-\\frac{1}{3}\\frac{1}{t^{\\frac{4}{3}}})dt = -\\frac{1}{3}\\int_1^0\\frac{1}{1+t^{\\frac{4}{3}}} dt = \\frac{1}{3}\\int_0^1\\frac{1}{1+t^{\\frac{4}{3}}} dt\n",
    "$$\n",
    "Tą funkcję podcałkową możemy teraz zastosować w obliczeniach"
   ]
  },
  {
   "cell_type": "code",
   "execution_count": null,
   "metadata": {},
   "outputs": [
    {
     "name": "stdout",
     "output_type": "stream",
     "text": [
      "Całka: 0.243698\n"
     ]
    }
   ],
   "source": [
    "def integrand(t):\n",
    "    return (1/3) * (1/(1 + t**(4/3)))\n",
    "\n",
    "# Przybliża funkcję podcałkową za pomocą trapezów\n",
    "def trapezoidal_rule(f, a, b, n):\n",
    "    x = np.linspace(a, b, n)\n",
    "    y = f(x)\n",
    "    h = (b - a) / (n - 1)\n",
    "    T = h * (0.5 * y[0] + np.sum(y[1:-1]) + 0.5 * y[-1])\n",
    "    return T\n",
    "\n",
    "# Obliczenia\n",
    "a, b = 0, 1\n",
    "n = 6\n",
    "result = trapezoidal_rule(integrand, a, b, n)\n",
    "print(f\"Całka: {result:.6f}\")\n"
   ]
  },
  {
   "cell_type": "markdown",
   "metadata": {},
   "source": [
    "# zad 4"
   ]
  },
  {
   "cell_type": "code",
   "execution_count": 15,
   "metadata": {},
   "outputs": [
    {
     "name": "stdout",
     "output_type": "stream",
     "text": [
      "Wyniki:\n",
      "h(15°) = 2.492029, różnica z h(0) = 0.921232\n",
      "h(30°) = 1.793725, różnica z h(0) = 0.222929\n",
      "h(45°) = 1.678955, różnica z h(0) = 0.108159\n"
     ]
    }
   ],
   "source": [
    "g = 9.81  # Przyspieszenie ziemskie (m/s^2)\n",
    "L = 1.0  # Długość wahadła (m)\n",
    "theta0 = np.pi / 4  # Amplituda początkowa (rad)\n",
    "\n",
    "# Funkcja podcałkowa h(theta)\n",
    "def h_integrand(theta, k):\n",
    "    return 1 / np.sqrt(1 - k**2 * np.sin(theta)**2)\n",
    "\n",
    "# Funkcja obliczająca h(theta0)\n",
    "def compute_h(theta0, N=50):\n",
    "    k = np.sin(theta0 / 2)\n",
    "    return simps(lambda theta: h_integrand(theta, k), 0, np.pi / 2, N)\n",
    "\n",
    "# Przybliżenie harmoniczne\n",
    "h_approx = np.pi / 2\n",
    "\n",
    "# Obliczenia dla theta0 = 15, 30, 45 stopni\n",
    "theta_values = [15, 30, 45]\n",
    "results = {theta: compute_h(theta) for theta in theta_values}\n",
    "\n",
    "# Wyświetlenie wyników i porównanie z przybliżeniem harmonicznym\n",
    "print(\"Wyniki:\")\n",
    "for theta, h_val in results.items():\n",
    "    print(f\"h({theta}°) = {h_val:.6f}, różnica z h(0) = {abs(h_val - h_approx):.6f}\")\n"
   ]
  },
  {
   "cell_type": "markdown",
   "metadata": {},
   "source": [
    "# zad 5"
   ]
  },
  {
   "cell_type": "code",
   "execution_count": 13,
   "metadata": {},
   "outputs": [
    {
     "name": "stdout",
     "output_type": "stream",
     "text": [
      "Całka dla 2 węzłów: 0.606725\n",
      "Całka dla 4 węzłów: 0.584768\n"
     ]
    }
   ],
   "source": [
    "# Funkcja do całkowania: f(x) = ln(x) / (x^2 - 2x + 2)\n",
    "def integrand(x):\n",
    "    return np.log(x) / (x**2 - 2*x + 2)\n",
    "\n",
    "# Zakres całkowania: a=1, b=math.pi\n",
    "a = 1\n",
    "b = math.pi\n",
    "\n",
    "for m in [2, 4]:\n",
    "    result = gaussQuad(integrand, a, b, m)\n",
    "    print(f\"Całka dla {m} węzłów: {result:.6f}\")"
   ]
  },
  {
   "cell_type": "markdown",
   "metadata": {},
   "source": [
    "# zad 6"
   ]
  },
  {
   "cell_type": "code",
   "execution_count": 35,
   "metadata": {},
   "outputs": [
    {
     "data": {
      "text/html": [
       "<div>\n",
       "<style scoped>\n",
       "    .dataframe tbody tr th:only-of-type {\n",
       "        vertical-align: middle;\n",
       "    }\n",
       "\n",
       "    .dataframe tbody tr th {\n",
       "        vertical-align: top;\n",
       "    }\n",
       "\n",
       "    .dataframe thead th {\n",
       "        text-align: right;\n",
       "    }\n",
       "</style>\n",
       "<table border=\"1\" class=\"dataframe\">\n",
       "  <thead>\n",
       "    <tr style=\"text-align: right;\">\n",
       "      <th></th>\n",
       "      <th>Pochodne</th>\n",
       "      <th>h</th>\n",
       "      <th>f ′(x) − Df</th>\n",
       "      <th>f ′(x) − Dc2</th>\n",
       "      <th>f ′(x) − Dc4</th>\n",
       "    </tr>\n",
       "  </thead>\n",
       "  <tbody>\n",
       "    <tr>\n",
       "      <th>0</th>\n",
       "      <td>f'_1(1) = 1</td>\n",
       "      <td>0.100</td>\n",
       "      <td>-1.000000e-02</td>\n",
       "      <td>-0.000100</td>\n",
       "      <td>-1.000000e-06</td>\n",
       "    </tr>\n",
       "    <tr>\n",
       "      <th>1</th>\n",
       "      <td>f'_1(1) = 1</td>\n",
       "      <td>0.010</td>\n",
       "      <td>-1.000000e-04</td>\n",
       "      <td>-0.000100</td>\n",
       "      <td>-1.000000e-06</td>\n",
       "    </tr>\n",
       "    <tr>\n",
       "      <th>2</th>\n",
       "      <td>f'_1(1) = 1</td>\n",
       "      <td>0.001</td>\n",
       "      <td>-1.000000e-06</td>\n",
       "      <td>-0.000100</td>\n",
       "      <td>-1.000000e-06</td>\n",
       "    </tr>\n",
       "    <tr>\n",
       "      <th>3</th>\n",
       "      <td>f'_2(π/3) = 1/2</td>\n",
       "      <td>0.100</td>\n",
       "      <td>8.329168e-04</td>\n",
       "      <td>0.000008</td>\n",
       "      <td>8.333340e-08</td>\n",
       "    </tr>\n",
       "    <tr>\n",
       "      <th>4</th>\n",
       "      <td>f'_2(π/3) = 1/2</td>\n",
       "      <td>0.010</td>\n",
       "      <td>8.333292e-06</td>\n",
       "      <td>0.000008</td>\n",
       "      <td>8.333340e-08</td>\n",
       "    </tr>\n",
       "    <tr>\n",
       "      <th>5</th>\n",
       "      <td>f'_2(π/3) = 1/2</td>\n",
       "      <td>0.001</td>\n",
       "      <td>8.333340e-08</td>\n",
       "      <td>0.000008</td>\n",
       "      <td>8.333340e-08</td>\n",
       "    </tr>\n",
       "    <tr>\n",
       "      <th>6</th>\n",
       "      <td>f'_3(0) = 1</td>\n",
       "      <td>0.100</td>\n",
       "      <td>-1.667500e-03</td>\n",
       "      <td>-0.000017</td>\n",
       "      <td>-1.666667e-07</td>\n",
       "    </tr>\n",
       "    <tr>\n",
       "      <th>7</th>\n",
       "      <td>f'_3(0) = 1</td>\n",
       "      <td>0.010</td>\n",
       "      <td>-1.666675e-05</td>\n",
       "      <td>-0.000017</td>\n",
       "      <td>-1.666667e-07</td>\n",
       "    </tr>\n",
       "    <tr>\n",
       "      <th>8</th>\n",
       "      <td>f'_3(0) = 1</td>\n",
       "      <td>0.001</td>\n",
       "      <td>-1.666667e-07</td>\n",
       "      <td>-0.000017</td>\n",
       "      <td>-1.666667e-07</td>\n",
       "    </tr>\n",
       "  </tbody>\n",
       "</table>\n",
       "</div>"
      ],
      "text/plain": [
       "          Pochodne      h   f ′(x) − Df  f ′(x) − Dc2  f ′(x) − Dc4\n",
       "0      f'_1(1) = 1  0.100 -1.000000e-02     -0.000100 -1.000000e-06\n",
       "1      f'_1(1) = 1  0.010 -1.000000e-04     -0.000100 -1.000000e-06\n",
       "2      f'_1(1) = 1  0.001 -1.000000e-06     -0.000100 -1.000000e-06\n",
       "3  f'_2(π/3) = 1/2  0.100  8.329168e-04      0.000008  8.333340e-08\n",
       "4  f'_2(π/3) = 1/2  0.010  8.333292e-06      0.000008  8.333340e-08\n",
       "5  f'_2(π/3) = 1/2  0.001  8.333340e-08      0.000008  8.333340e-08\n",
       "6      f'_3(0) = 1  0.100 -1.667500e-03     -0.000017 -1.666667e-07\n",
       "7      f'_3(0) = 1  0.010 -1.666675e-05     -0.000017 -1.666667e-07\n",
       "8      f'_3(0) = 1  0.001 -1.666667e-07     -0.000017 -1.666667e-07"
      ]
     },
     "execution_count": 35,
     "metadata": {},
     "output_type": "execute_result"
    }
   ],
   "source": [
    "# Definicje funkcji i ich pochodnych\n",
    "def f1(x): return x**3 - 2*x\n",
    "def f1_prime(x): return 3*x**2 - 2\n",
    "\n",
    "def f2(x): return np.sin(x)\n",
    "def f2_prime(x): return np.cos(x)\n",
    "\n",
    "def f3(x): return np.exp(x)\n",
    "def f3_prime(x): return np.exp(x)\n",
    "\n",
    "# Różnica centralna\n",
    "def central_difference(f, x, h):\n",
    "    return (f(x + h) - f(x - h)) / (2 * h)\n",
    "\n",
    "# Punkty testowe\n",
    "points = [\n",
    "    {\"func\": f1, \"deriv\": f1_prime, \"x\": 1, \"label\": \"f'_1(1) = 1\"},\n",
    "    {\"func\": f2, \"deriv\": f2_prime, \"x\": np.pi / 3, \"label\": \"f'_2(π/3) = 1/2\"},\n",
    "    {\"func\": f3, \"deriv\": f3_prime, \"x\": 0, \"label\": \"f'_3(0) = 1\"}\n",
    "]\n",
    "\n",
    "# Kroki h\n",
    "h_values = [0.1, 0.01, 0.001]\n",
    "\n",
    "# Zbieranie wyników\n",
    "rows = []\n",
    "\n",
    "for point in points:\n",
    "    # Obliczenie dla każdego h\n",
    "    errors = []\n",
    "    for h in h_values:\n",
    "        approx = central_difference(point[\"func\"], point[\"x\"], h)\n",
    "        error = point[\"deriv\"](point[\"x\"]) - approx\n",
    "        errors.append(error)\n",
    "    \n",
    "    # Dodanie wiersza z obliczonymi błędami\n",
    "    row = {\n",
    "        \"Pochodne\": point[\"label\"],\n",
    "        \"h\": h_values[0],  # Zawsze h=0.1 w pierwszym wierszu\n",
    "        \"f ′(x) − Df\": errors[0],\n",
    "        \"f ′(x) − Dc2\": errors[1],\n",
    "        \"f ′(x) − Dc4\": errors[2]\n",
    "    }\n",
    "    rows.append(row)\n",
    "    \n",
    "    # Powtarzanie dla h=0.01\n",
    "    row_01 = row.copy()\n",
    "    row_01[\"h\"] = h_values[1]\n",
    "    row_01[\"f ′(x) − Df\"] = errors[1]\n",
    "    rows.append(row_01)\n",
    "    \n",
    "    # Powtarzanie dla h=0.001\n",
    "    row_001 = row.copy()\n",
    "    row_001[\"h\"] = h_values[2]\n",
    "    row_001[\"f ′(x) − Df\"] = errors[2]\n",
    "    rows.append(row_001)\n",
    "\n",
    "# Tworzenie tabeli z pandas\n",
    "df = pd.DataFrame(rows)\n",
    "\n",
    "# Wyświetlenie tabeli\n",
    "df"
   ]
  },
  {
   "cell_type": "code",
   "execution_count": 22,
   "metadata": {},
   "outputs": [
    {
     "name": "stdout",
     "output_type": "stream",
     "text": [
      "     h  f'(0.2)\n",
      "0  0.1  0.57284\n",
      "1  0.2  0.28642\n"
     ]
    }
   ],
   "source": [
    "# Dane z tabeli\n",
    "x_vals = np.array([0.0, 0.1, 0.2, 0.3, 0.4])\n",
    "f_vals = np.array([0.000000, 0.078348, 0.138910, 0.192916, 0.244981])\n",
    "\n",
    "# Funkcja do obliczania różnic centralnych\n",
    "def central_difference_table(x_vals, f_vals, x, h):\n",
    "    idx = np.where(np.isclose(x_vals, x))[0][0]\n",
    "    f_x_plus_h = f_vals[idx + 1]\n",
    "    f_x_minus_h = f_vals[idx - 1]\n",
    "    return (f_x_plus_h - f_x_minus_h) / (2 * h)\n",
    "\n",
    "# Obliczenia dla różnych kroków\n",
    "h_values = [0.1, 0.2]\n",
    "results = []\n",
    "\n",
    "for h in h_values:\n",
    "    f_prime = central_difference_table(x_vals, f_vals, 0.2, h)\n",
    "    results.append({\"h\": h, \"f'(0.2)\": f_prime})\n",
    "\n",
    "# Wyświetlenie wyników w tabeli\n",
    "df = pd.DataFrame(results)\n",
    "print(df)\n"
   ]
  }
 ],
 "metadata": {
  "kernelspec": {
   "display_name": "3.12.3",
   "language": "python",
   "name": "python3"
  },
  "language_info": {
   "codemirror_mode": {
    "name": "ipython",
    "version": 3
   },
   "file_extension": ".py",
   "mimetype": "text/x-python",
   "name": "python",
   "nbconvert_exporter": "python",
   "pygments_lexer": "ipython3",
   "version": "3.12.3"
  }
 },
 "nbformat": 4,
 "nbformat_minor": 2
}
