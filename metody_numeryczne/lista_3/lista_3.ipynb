{
 "cells": [
  {
   "cell_type": "code",
   "execution_count": 2,
   "metadata": {},
   "outputs": [],
   "source": [
    "import numpy as np\n",
    "import matplotlib.pyplot as plt\n",
    "import time\n",
    "import warnings\n",
    "\n",
    "warnings.filterwarnings('ignore')"
   ]
  },
  {
   "cell_type": "code",
   "execution_count": 3,
   "metadata": {},
   "outputs": [
    {
     "name": "stdout",
     "output_type": "stream",
     "text": [
      "Jednostka maszynowa tej jednostki to : 1.1102230246251565e-16\n"
     ]
    }
   ],
   "source": [
    "epsilon = 0.5\n",
    "while True:\n",
    "    if 1 + epsilon != 1:\n",
    "        epsilon = epsilon/2\n",
    "    else:\n",
    "        print(\"Jednostka maszynowa tej jednostki to : {}\".format(epsilon))\n",
    "        break"
   ]
  },
  {
   "cell_type": "markdown",
   "metadata": {},
   "source": [
    "# Definicje potrzebnych funkcji"
   ]
  },
  {
   "cell_type": "markdown",
   "metadata": {},
   "source": [
    "## działania na macierzach"
   ]
  },
  {
   "cell_type": "code",
   "execution_count": 4,
   "metadata": {},
   "outputs": [],
   "source": [
    "def det(A):\n",
    "    n, m = A.shape\n",
    "    if n != m:\n",
    "        raise ValueError(\"Podana macierz nie jest kwadratowa\")\n",
    "    A = A.astype(np.float64).copy()\n",
    "    det_val = 1\n",
    "\n",
    "    for i in range(n):\n",
    "        if A[i, i] == 0:\n",
    "            for k in range(i + 1, n):\n",
    "                if A[k, i] != 0:\n",
    "                    A[[i, k]] = A[[k, i]] \n",
    "                    det_val *= -1 \n",
    "                    break\n",
    "            else:\n",
    "                return 0\n",
    "        for j in range(i + 1, n):\n",
    "            factor = A[j, i] / A[i, i]\n",
    "            A[j, i:] -= factor * A[i, i:]\n",
    "        det_val *= A[i, i]\n",
    "\n",
    "    return det_val\n",
    "\n",
    "def matmul(A,B):\n",
    "    A = np.matrix(A)\n",
    "    B = np.matrix(B)\n",
    "    n,m = np.matrix(A).shape\n",
    "    k,l = np.matrix(B).shape\n",
    "\n",
    "    if m!=k:\n",
    "        raise ValueError(\"Macierze mają nieodpowiednie wymiary\")\n",
    "    AB = np.zeros((n,l))\n",
    "    for i in range(n):\n",
    "        for j in range(l):\n",
    "            AB[i,j] = np.sum([A[i,o]*B[p,j] for o,p in zip(range(m),range(k))])\n",
    "    return AB\n",
    "\n",
    "def transpose(A):\n",
    "    n,m = np.matrix(A).shape\n",
    "    B = np.zeros((m,n))\n",
    "    for j in range(m):\n",
    "        for i in range(n):\n",
    "            B[j,i] = A[i,j]\n",
    "    return B\n",
    "\n",
    "def dopelnienie(A):\n",
    "    n, m = A.shape\n",
    "    D = np.zeros((n,m))\n",
    "    for i in range(n):\n",
    "        for j in range(m):\n",
    "            D[i][j] = np.power(-1,(i+1)+(j+1))*det(np.delete(np.delete(A,i,0),j,1))\n",
    "    return D\n",
    "\n",
    "def matrix_inv(A):\n",
    "    det_A = det(A)\n",
    "    if det_A == 0:\n",
    "        raise ValueError(\"Nie można odwrócić macierzy: macierz osobliwa\")\n",
    "    D = dopelnienie(A)\n",
    "    D_T = np.matrix.transpose(D)\n",
    "    return 1/(det_A) * D_T\n"
   ]
  },
  {
   "cell_type": "markdown",
   "metadata": {},
   "source": [
    "## funkcje do zadań"
   ]
  },
  {
   "cell_type": "code",
   "execution_count": null,
   "metadata": {},
   "outputs": [],
   "source": [
    "def lu_decomp_pivot(A):\n",
    "    A = np.float64(A)\n",
    "    n = A.shape[0]\n",
    "\n",
    "    P = np.eye(n,dtype = type(A[0,0]))\n",
    "    L = np.zeros((n, n), dtype = type(A[0,0]))\n",
    "    U = A.copy()\n",
    "    \n",
    "    for i in range(n):\n",
    "        pivot_index = np.argmax(abs(U[i:, i])) + i\n",
    "    \n",
    "        if pivot_index != i:\n",
    "            U[[i, pivot_index]] = U[[pivot_index, i]]\n",
    "            P[[i, pivot_index]] = P[[pivot_index, i]]\n",
    "            L[[i, pivot_index]] = L[[pivot_index, i]]\n",
    "\n",
    "        for j in range(i + 1, n):\n",
    "            L[j, i] = U[j, i] / U[i, i]\n",
    "            U[j, i:] -= L[j, i] * U[i, i:]\n",
    "\n",
    "    np.fill_diagonal(L, 1)\n",
    "\n",
    "    \n",
    "    return P, L, U\n",
    "\n",
    "def solve_lu(A, b):\n",
    "    P,L,U = lu_decomp_pivot(A)\n",
    "    # Przekształcenie wektora b zgodnie z permutacją P\n",
    "    b_permuted = np.matmul(P, b)\n",
    "    n = L.shape[0]\n",
    "    y = np.zeros_like(b_permuted)\n",
    "    for i in range(n):\n",
    "        y[i] = b_permuted[i] - np.matmul(L[i, :i+1], y[:i+1,0])\n",
    "    \n",
    "    x = np.zeros_like(y)\n",
    "    for i in range(n - 1, -1, -1):\n",
    "        x[i] = (y[i,0] - np.matmul(U[i, i+1:], x[i+1:])) / U[i, i]\n",
    "\n",
    "    return x\n",
    "\n",
    "def vector_norm(x):\n",
    "    sum = 0\n",
    "    for x_i in x:\n",
    "        sum +=x_i**2\n",
    "    return np.sqrt(sum)\n",
    "\n",
    "def promien_spektralny(A, max_iter = 1000, accrc = 1e-10):\n",
    "    #algorytm odnalezienia wartości własnych\n",
    "    #zastosujemy metodę potęgową\n",
    "    #zwraca wartość własną, i wektor własny\n",
    "    #zwraca równocześnie największą wartość własną\n",
    "\n",
    "    n = A.shape[0]\n",
    "    x = transpose(np.matrix(np.random.rand(n)))\n",
    "\n",
    "    x = x/vector_norm(x)\n",
    "    lambda_old = 0\n",
    "\n",
    "    for i in range(max_iter):\n",
    "        x = matmul(A,x)\n",
    "        x = x/vector_norm(x)\n",
    "\n",
    "        lambda_new = matmul(transpose(x), matmul(A,x))\n",
    "        if abs(lambda_new-lambda_old) < accrc:\n",
    "            break\n",
    "    \n",
    "    return lambda_new[0,0]\n",
    "\n",
    "#definicja potrzebnych funkcji\n",
    "def decomp_D_L_U(A):\n",
    "    n = A.shape[0]\n",
    "    # rozkład na L, D, U\n",
    "    L = np.zeros((n,n),dtype=np.float64)\n",
    "    D = np.zeros((n,n),dtype=np.float64)\n",
    "    U = np.zeros((n,n),dtype=np.float64)\n",
    "    for i in range(n):\n",
    "        for j in range(n):\n",
    "            if i==j:\n",
    "                D[i,j] = A[i,j]\n",
    "            elif i<j:\n",
    "                U[i,j] = A[i,j]\n",
    "            else: \n",
    "                L[i,j] = A[i,j]\n",
    "    return L, U, D\n",
    "\n",
    "def solve_Gauss_Seidel(A,b,max_iter = 1, epsilon = 1e-16):\n",
    "    n = A.shape[0]\n",
    "    L,U,D = decomp_D_L_U(A)\n",
    "    #przygotowanie wektorów x\n",
    "    x_next = np.zeros((n,1),dtype = np.float64)\n",
    "    for _ in range(max_iter):\n",
    "        x_now = x_next.copy()\n",
    "        for i in range(n):\n",
    "            x_next[i] = (- matmul(np.matrix(L[i]),x_next) - matmul(np.matrix(U[i]),x_now) + b[i])/D[i,i]\n",
    "            print(x_next)   \n",
    "\n",
    "        if vector_norm(x_next-x_now) < epsilon:\n",
    "            return x_next\n",
    "    print(\"Nie osiągnięto rozwiązania po maksymalnej liczbie iteracji\")\n",
    "    return None\n",
    "            "
   ]
  },
  {
   "cell_type": "markdown",
   "metadata": {},
   "source": [
    "# Zadanie 1"
   ]
  },
  {
   "cell_type": "code",
   "execution_count": 6,
   "metadata": {},
   "outputs": [
    {
     "name": "stdout",
     "output_type": "stream",
     "text": [
      "Niedokładne rozwiązanie:\n",
      "[[   -94.84781941]\n",
      " [  2157.10127274]\n",
      " [-10697.32231834]\n",
      " [ 17900.65789658]\n",
      " [ -9440.46525296]] \n"
     ]
    }
   ],
   "source": [
    "n = 5\n",
    "\n",
    "dtype1 = np.float32\n",
    "dtype2 = np.float64\n",
    "\n",
    "#konstrukcja macierzy Hilberta\n",
    "A_32 = np.zeros((n,n),dtype= dtype1)\n",
    "A_64= np.zeros((n,n),dtype= dtype2)\n",
    "for i in range(n):\n",
    "    for j in range(n):\n",
    "        A_32[i,j] = 1/(i+j+1)\n",
    "        A_64[i,j] = 1/(i+j+1)\n",
    "\n",
    "b_32 = np.matrix([\n",
    "     [5],\n",
    "     [4],\n",
    "     [3],\n",
    "     [2],\n",
    "     [1]],dtype=dtype1)\n",
    "b_64 = np.matrix([\n",
    "     [5],\n",
    "     [4],\n",
    "     [3],\n",
    "     [2],\n",
    "     [1]],dtype=dtype2)\n",
    "\n",
    "#znajdujemy rozwiązania w pojedyńczej precyzji\n",
    "x = solve_lu(A_32, b_32)\n",
    "\n",
    "#badamy niedokładność rozwiązania\n",
    "#obliczamy wektor reszt w podwójnej prezycji\n",
    "r = b_64 - matmul(A_64,x) \n",
    "\n",
    "print(\"Niedokładne rozwiązanie:\\n{} \".format(x))\n"
   ]
  },
  {
   "cell_type": "markdown",
   "metadata": {},
   "source": [
    "Za pomocą rozkładu P, L, U obliczyliśmy niedokłane rozwiązanie układu równań, a teraz za pomocą metody iterowanego poprawiania rozwiązań zwiększymy jego dokładność. Na końcu sprawdzimy je podstawiając wektor rozwiązań do równania."
   ]
  },
  {
   "cell_type": "code",
   "execution_count": 13,
   "metadata": {},
   "outputs": [
    {
     "name": "stdout",
     "output_type": "stream",
     "text": [
      "=============================================\n",
      "Ilość wykonanych poprawek:  1\n",
      "Poprawione rozwiązanie: \n",
      " [[ 1.]\n",
      " [ 2.]\n",
      " [-1.]]\n"
     ]
    },
    {
     "ename": "ValueError",
     "evalue": "Macierze mają nieodpowiednie wymiary",
     "output_type": "error",
     "traceback": [
      "\u001b[1;31m---------------------------------------------------------------------------\u001b[0m",
      "\u001b[1;31mValueError\u001b[0m                                Traceback (most recent call last)",
      "Cell \u001b[1;32mIn[13], line 16\u001b[0m\n\u001b[0;32m     14\u001b[0m \u001b[38;5;28mprint\u001b[39m(\u001b[38;5;124m\"\u001b[39m\u001b[38;5;124mIlość wykonanych poprawek: \u001b[39m\u001b[38;5;124m\"\u001b[39m,i)\n\u001b[0;32m     15\u001b[0m \u001b[38;5;28mprint\u001b[39m(\u001b[38;5;124m\"\u001b[39m\u001b[38;5;124mPoprawione rozwiązanie: \u001b[39m\u001b[38;5;130;01m\\n\u001b[39;00m\u001b[38;5;124m\"\u001b[39m,x)    \n\u001b[1;32m---> 16\u001b[0m \u001b[38;5;28mprint\u001b[39m(\u001b[38;5;124m\"\u001b[39m\u001b[38;5;124mSprawdzenie dokładności, A*x: \u001b[39m\u001b[38;5;130;01m\\n\u001b[39;00m\u001b[38;5;124m\"\u001b[39m,\u001b[43mmatmul\u001b[49m\u001b[43m(\u001b[49m\u001b[43mA_64\u001b[49m\u001b[43m,\u001b[49m\u001b[43mx\u001b[49m\u001b[43m)\u001b[49m)\n",
      "Cell \u001b[1;32mIn[4], line 31\u001b[0m, in \u001b[0;36mmatmul\u001b[1;34m(A, B)\u001b[0m\n\u001b[0;32m     28\u001b[0m k,l \u001b[38;5;241m=\u001b[39m np\u001b[38;5;241m.\u001b[39mmatrix(B)\u001b[38;5;241m.\u001b[39mshape\n\u001b[0;32m     30\u001b[0m \u001b[38;5;28;01mif\u001b[39;00m m\u001b[38;5;241m!=\u001b[39mk:\n\u001b[1;32m---> 31\u001b[0m     \u001b[38;5;28;01mraise\u001b[39;00m \u001b[38;5;167;01mValueError\u001b[39;00m(\u001b[38;5;124m\"\u001b[39m\u001b[38;5;124mMacierze mają nieodpowiednie wymiary\u001b[39m\u001b[38;5;124m\"\u001b[39m)\n\u001b[0;32m     32\u001b[0m AB \u001b[38;5;241m=\u001b[39m np\u001b[38;5;241m.\u001b[39mzeros((n,l))\n\u001b[0;32m     33\u001b[0m \u001b[38;5;28;01mfor\u001b[39;00m i \u001b[38;5;129;01min\u001b[39;00m \u001b[38;5;28mrange\u001b[39m(n):\n",
      "\u001b[1;31mValueError\u001b[0m: Macierze mają nieodpowiednie wymiary"
     ]
    }
   ],
   "source": [
    "# iterator działań\n",
    "i = 0\n",
    "print(\"=============================================\")\n",
    "while True:\n",
    "    i += 1 \n",
    "    if( vector_norm(r) < vector_norm(b_32)* epsilon ):\n",
    "        break\n",
    "    else:\n",
    "        dx = solve_lu(A_32,r)\n",
    "        x = x + dx\n",
    "        r = b_32 - matmul(A_64,x)\n",
    "\n",
    "\n",
    "print(\"Ilość wykonanych poprawek: \",i)\n",
    "print(\"Poprawione rozwiązanie: \\n\",x)    \n",
    "print(\"Sprawdzenie dokładności, A*x: \\n\",matmul(A_64,x))"
   ]
  },
  {
   "cell_type": "markdown",
   "metadata": {},
   "source": [
    "# Zadanie 2"
   ]
  },
  {
   "cell_type": "markdown",
   "metadata": {},
   "source": [
    "W tym zadaniu metodą Gaussa Seidla obliczymy rozwiązanie układu równań."
   ]
  },
  {
   "cell_type": "code",
   "execution_count": 25,
   "metadata": {},
   "outputs": [
    {
     "name": "stdout",
     "output_type": "stream",
     "text": [
      "[[ 3]\n",
      " [ 9]\n",
      " [-6]]\n",
      "Warunek zbieżności został spełniony\n",
      "Nie osiągnięto rozwiązania po maksymalnej liczbie iteracji\n",
      "[[ 0.75]\n",
      " [ 1.75]\n",
      " [-1.  ]]\n",
      "Rozwiązanie:\n",
      " None\n"
     ]
    }
   ],
   "source": [
    "max_iter = 10**3\n",
    "epsilon # jednostka dokładności\n",
    "\n",
    "# konstrukcja macierzy A\n",
    "n = 20\n",
    "A = np.matrix([[4, -1,-1],[-2, 6, 1],[-1, 1, 7]])\n",
    "b = np.transpose(np.matrix([3, 9 ,-6]))\n",
    "print(b)\n",
    "\n",
    "L, U, D = decomp_D_L_U(A)\n",
    "x = 0\n",
    "\n",
    "#sprawdzenie zbieżności\n",
    "M_gs = matmul(-matrix_inv(D+L),U)\n",
    "if promien_spektralny(M_gs) < 1:\n",
    "    print(\"Warunek zbieżności został spełniony\")\n",
    "    x = solve_Gauss_Seidel(A,b,1, epsilon)\n",
    "    print(\"Rozwiązanie:\\n\",x)\n",
    "else:\n",
    "    print(\"Warunek zbieżności nie został spełniony\")\n"
   ]
  },
  {
   "cell_type": "code",
   "execution_count": null,
   "metadata": {},
   "outputs": [
    {
     "name": "stdout",
     "output_type": "stream",
     "text": [
      "sprawdzenie rozwiązania: A*x = \n",
      "[[ 0.00000000e+00]\n",
      " [-1.11022302e-16]\n",
      " [ 0.00000000e+00]\n",
      " [ 6.93889390e-18]\n",
      " [ 0.00000000e+00]\n",
      " [-2.16840434e-18]\n",
      " [ 0.00000000e+00]\n",
      " [ 2.33103467e-18]\n",
      " [ 5.85469173e-18]\n",
      " [ 9.83913472e-18]\n",
      " [ 1.39455504e-17]\n",
      " [ 1.73472348e-17]\n",
      " [ 2.04914211e-17]\n",
      " [ 2.77555756e-17]\n",
      " [-1.04083409e-17]\n",
      " [ 0.00000000e+00]\n",
      " [ 0.00000000e+00]\n",
      " [ 0.00000000e+00]\n",
      " [ 0.00000000e+00]\n",
      " [ 1.00000000e+02]]\n"
     ]
    }
   ],
   "source": [
    "print(\"sprawdzenie rozwiązania: A*x = \")\n",
    "print(matmul(A,x))"
   ]
  },
  {
   "cell_type": "markdown",
   "metadata": {},
   "source": [
    "W przybliżeniu ten wektor jest równy wektorowi $b$"
   ]
  },
  {
   "cell_type": "code",
   "execution_count": null,
   "metadata": {},
   "outputs": [
    {
     "name": "stdout",
     "output_type": "stream",
     "text": [
      "[[  0.]\n",
      " [ -0.]\n",
      " [  0.]\n",
      " [  0.]\n",
      " [  0.]\n",
      " [ -0.]\n",
      " [  0.]\n",
      " [  0.]\n",
      " [  0.]\n",
      " [  0.]\n",
      " [  0.]\n",
      " [  0.]\n",
      " [  0.]\n",
      " [  0.]\n",
      " [ -0.]\n",
      " [  0.]\n",
      " [  0.]\n",
      " [  0.]\n",
      " [  0.]\n",
      " [100.]]\n"
     ]
    }
   ],
   "source": [
    "print(np.round(matmul(A,x)))"
   ]
  },
  {
   "cell_type": "markdown",
   "metadata": {},
   "source": [
    "# Zadanie 3"
   ]
  },
  {
   "cell_type": "markdown",
   "metadata": {},
   "source": [
    "W tym zadaniu porównany wydajność metody Gaussa - Siedla porównując średni czas jej wykonania z średnim czasem wykonania metody dokładnej z biblioteki numpy."
   ]
  },
  {
   "cell_type": "code",
   "execution_count": null,
   "metadata": {},
   "outputs": [
    {
     "name": "stdout",
     "output_type": "stream",
     "text": [
      "Średni czas wykonania metodą Gaussa Seidla: 0.06660566329956055\n",
      "Średni czas wykonania metodą z biblioteki numpy: 0.0004107832908630371\n",
      "Metoda z biblioteki jest 162.14306857424768 razy szybsza\n"
     ]
    }
   ],
   "source": [
    "#A i b z poprzedniego zadania\n",
    "#wykonamy te metody 20 razy i obliczymy średnią\n",
    "m = 20\n",
    "times1 = np.zeros(m)\n",
    "times2 = np.zeros(m)\n",
    "\n",
    "for i in range(m):\n",
    "    time_start = time.time()\n",
    "    solve_Gauss_Seidel(A,b,10**3,epsilon)\n",
    "    time_stop = time.time()\n",
    "    times1[i] = time_stop-time_start\n",
    "\n",
    "    time_start = time.time()\n",
    "    np.linalg.solve(A,b)\n",
    "    time_stop = time.time()\n",
    "    times2[i] = time_stop-time_start\n",
    "\n",
    "time1 = np.mean(times1)\n",
    "time2 = np.mean(times2)\n",
    "\n",
    "print(\"Średni czas wykonania metodą Gaussa Seidla: {}\".format(time1))\n",
    "print(\"Średni czas wykonania metodą z biblioteki numpy: {}\".format(time2))\n",
    "print(\"Metoda z biblioteki jest {} razy szybsza\".format(time1/time2))"
   ]
  },
  {
   "cell_type": "markdown",
   "metadata": {},
   "source": [
    "# Zadanie 4"
   ]
  },
  {
   "cell_type": "code",
   "execution_count": null,
   "metadata": {},
   "outputs": [
    {
     "data": {
      "image/png": "[encoded data removed]",
      "text/plain": [
       "<Figure size 1000x600 with 1 Axes>"
      ]
     },
     "metadata": {},
     "output_type": "display_data"
    }
   ],
   "source": [
    "n = 20\n",
    "increase = 0.025\n",
    "k=10**2\n",
    "\n",
    "#konstrukcja macierzy B\n",
    "B = np.zeros((n,n))\n",
    "for i in range(n):\n",
    "    B[i,i] = increase*(i+1)\n",
    "    if i < n-1:\n",
    "        B[i,i+1] = 5\n",
    "\n",
    "eta_k = np.zeros(k)\n",
    "diff = np.zeros(k)\n",
    "x_0 = np.ones((n,1))\n",
    "x_k = x_0.copy()\n",
    "\n",
    "for i in range(k):\n",
    "    x_k = matmul(B,x_k)\n",
    "    eta_k[i] = vector_norm(x_k)/vector_norm(x_0)\n",
    "    diff[i] = vector_norm(x_k)<vector_norm(x_0)\n",
    "\n",
    "\n",
    "plt.figure(figsize=(10, 6))\n",
    "plt.plot(range(k), eta_k, color='b', label=r'$\\eta_k$')\n",
    "plt.axvline(np.argmax(eta_k), color='r', linestyle='--', label=\"k={}\".format(np.argmax(eta_k)))\n",
    "plt.axhline( 1e14, color='g', linestyle='--', label='$10^{14}$')\n",
    "plt.xlabel('iteracja k')\n",
    "plt.ylabel('$\\eta_k$')\n",
    "plt.title('Wykres $\\eta_k$ dla k $\\in$ {1,2,...,100}')\n",
    "plt.legend()\n",
    "plt.show()"
   ]
  },
  {
   "cell_type": "markdown",
   "metadata": {},
   "source": [
    "Na powyższym wykresie widać, że z początku wartości $\\eta_k$ rosną, a dopiero dla $k=26$ zaczynają znowu maleć.\n",
    "\n",
    "Najmniejsza wartość k, dla której $||x^{(k)}||_2 < ||x^{(0)}||_2 $ wynosi $85$, co wykazuje poniższy kod."
   ]
  },
  {
   "cell_type": "code",
   "execution_count": null,
   "metadata": {},
   "outputs": [
    {
     "name": "stdout",
     "output_type": "stream",
     "text": [
      "85\n"
     ]
    }
   ],
   "source": [
    "print(np.argmax(diff))"
   ]
  }
 ],
 "metadata": {
  "kernelspec": {
   "display_name": "Python 3",
   "language": "python",
   "name": "python3"
  },
  "language_info": {
   "codemirror_mode": {
    "name": "ipython",
    "version": 3
   },
   "file_extension": ".py",
   "mimetype": "text/x-python",
   "name": "python",
   "nbconvert_exporter": "python",
   "pygments_lexer": "ipython3",
   "version": "3.12.2"
  }
 },
 "nbformat": 4,
 "nbformat_minor": 2
}
