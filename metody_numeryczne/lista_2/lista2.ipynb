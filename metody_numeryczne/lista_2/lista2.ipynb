{
 "cells": [
  {
   "cell_type": "code",
   "execution_count": 1,
   "metadata": {},
   "outputs": [],
   "source": [
    "#zadania pisemne wysłać przez pdf\n",
    "#funkcja odwracania\n",
    "#funckja mnożenia macierzy\n",
    "#funkcja wyznacznika macierzy"
   ]
  },
  {
   "cell_type": "code",
   "execution_count": 2,
   "metadata": {},
   "outputs": [],
   "source": [
    "import numpy as np"
   ]
  },
  {
   "cell_type": "code",
   "execution_count": 3,
   "metadata": {},
   "outputs": [],
   "source": [
    "def det(A):\n",
    "    n,m = A.shape\n",
    "    if n != m:\n",
    "        raise ValueError(\"Podana macierz nie jest kwadratowa\")\n",
    "    if n == 1:\n",
    "        return A[0,0]\n",
    "    if n == 2:\n",
    "        return A[0,0]*A[1,1] - A[0,1]*A[1,0]\n",
    "    sum = 0\n",
    "    for j in range(m):\n",
    "        sum += np.power(-1,1+(j+1))*A[0,j]*det(np.delete(np.delete(A,0,0),j,1))\n",
    "    return sum\n",
    "\n",
    "def matmul(A,B):\n",
    "    n,m = A.shape\n",
    "    k,l = B.shape\n",
    "\n",
    "    if m!=k:\n",
    "        raise ValueError(\"Macierze mają nieodpowiednie wymiary\")\n",
    "    AB = np.zeros((n,l))\n",
    "    for i in range(n):\n",
    "        for j in range(l):\n",
    "            AB[i,j] = np.sum([A[i,o]*B[p,j] for o,p in zip(range(m),range(k))])\n",
    "    return AB\n",
    "\n",
    "def transpose(A):\n",
    "    n,m = A.shape\n",
    "    B = np.zeros((m,n))\n",
    "    for j in range(m):\n",
    "        for i in range(n):\n",
    "            B[j,i] = A[i,j]\n",
    "    return B\n",
    "\n",
    "def dopelnienie(A):\n",
    "    n, m = A.shape\n",
    "    D = np.zeros((n,m))\n",
    "    for i in range(n):\n",
    "        for j in range(m):\n",
    "            D[i][j] = np.power(-1,(i+1)+(j+1))*det(np.delete(np.delete(A,i,0),j,1))\n",
    "    return D\n",
    "\n",
    "def matrix_inv(A):\n",
    "    det_A = det(A)\n",
    "    if det_A == 0:\n",
    "        raise ValueError(\"Nie można odwrócić macierzy: macierz osobliwa\")\n",
    "    D = dopelnienie(A)\n",
    "    D_T = np.matrix.transpose(D)\n",
    "    return 1/(det_A) * D_T\n",
    "\n",
    "def lu_decomp_pivot(A):\n",
    "    # Rozmiar macierzy\n",
    "    A = np.float64(A)\n",
    "    n = A.shape[0]\n",
    "    \n",
    "    # Inicjalizacja\n",
    "    P = np.eye(n)\n",
    "    L = np.zeros((n, n))\n",
    "    U = A.copy()\n",
    "    \n",
    "    for i in range(n):\n",
    "        # Znajdź indeks największego elementu\n",
    "        pivot_index = np.argmax(abs(U[i:, i])) + i\n",
    "        \n",
    "        # Zamiana wierszy w U i P\n",
    "        if pivot_index != i:\n",
    "            U[[i, pivot_index]] = U[[pivot_index, i]]\n",
    "            P[[i, pivot_index]] = P[[pivot_index, i]]\n",
    "            L[[i, pivot_index]] = L[[pivot_index, i]]\n",
    "\n",
    "        # Obliczanie elementów macierzy L i U\n",
    "        for j in range(i + 1, n):\n",
    "            L[j, i] = U[j, i] / U[i, i]\n",
    "            U[j, i:] -= L[j, i] * U[i, i:]\n",
    "\n",
    "\n",
    "        # Ustawienie jedynek na przekątnej macierzy L\n",
    "    np.fill_diagonal(L, 1)\n",
    "\n",
    "    \n",
    "    return P, L, U"
   ]
  },
  {
   "cell_type": "markdown",
   "metadata": {},
   "source": [
    "W zadaniach, w których należy rozwiązać układ równań A*x = b będziemy korzystać z metody odwrócenia macierzy A. Jeśli macierz A jest nieodwracalna, wtedy skorzystamy z metody dekompozycji LU z macierzą pivotową P"
   ]
  },
  {
   "cell_type": "markdown",
   "metadata": {},
   "source": [
    "# Zadanie 4"
   ]
  },
  {
   "cell_type": "markdown",
   "metadata": {},
   "source": [
    "Rozwiązać układ równań Ax= b"
   ]
  },
  {
   "cell_type": "code",
   "execution_count": 4,
   "metadata": {},
   "outputs": [
    {
     "name": "stdout",
     "output_type": "stream",
     "text": [
      "Rozwiązanie: x = \n",
      "[[ 2.]\n",
      " [-2.]\n",
      " [ 1.]\n",
      " [ 1.]\n",
      " [-1.]]\n",
      "Sprawdzenie: A*x = \n",
      "[[ 1.]\n",
      " [ 1.]\n",
      " [-4.]\n",
      " [-2.]\n",
      " [-1.]]\n"
     ]
    }
   ],
   "source": [
    "A = np.matrix([\n",
    "    [0,0,2,1,2],\n",
    "    [0,1,0,2,-1],\n",
    "    [1,2,0,-2,0],\n",
    "    [0,0,0,-1,1],\n",
    "    [0,1,-1,1,-1]])\n",
    "b = np.matrix([\n",
    "     [1],\n",
    "     [1],\n",
    "     [-4],\n",
    "     [-2],\n",
    "     [-1]])\n",
    "\n",
    "A_inv = matrix_inv(A)\n",
    "x = matmul(A_inv,b)\n",
    "print(\"Rozwiązanie: x = \")\n",
    "print(x)# rozwiązanie\n",
    "print(\"Sprawdzenie: A*x = \")\n",
    "print(matmul(A,x))\n",
    "\n"
   ]
  },
  {
   "cell_type": "markdown",
   "metadata": {},
   "source": [
    "# Zadanie 5"
   ]
  },
  {
   "cell_type": "code",
   "execution_count": 5,
   "metadata": {},
   "outputs": [
    {
     "name": "stdout",
     "output_type": "stream",
     "text": [
      "a_0 = -1.0, a_1 = 2.683, a_2 = -0.875, a_3 = 0.217, a_4 = -0.025\n"
     ]
    }
   ],
   "source": [
    "points = [(0,-1),(1,1),(3,3),(5,2),(6,-2)]\n",
    "n = len(points)\n",
    "A = np.zeros((n,n))\n",
    "for i in range(n):\n",
    "    x = points[i][0]\n",
    "    A[i][0] = 1\n",
    "    A[i][1] = x\n",
    "    A[i][2] = x**2\n",
    "    A[i][3] = x**3\n",
    "    A[i][4] = x**4\n",
    "b = [[-1],[1],[3],[2],[-2]]\n",
    "\n",
    "A_inv = matrix_inv(A)\n",
    "\n",
    "result = np.matmul(A_inv,b)\n",
    "result=np.round(result,3)\n",
    "\n",
    "print(\"a_0 = {}, a_1 = {}, a_2 = {}, a_3 = {}, a_4 = {}\".format(result[0][0],result[1][0],result[2][0],result[3][0],result[4][0]))\n"
   ]
  },
  {
   "cell_type": "markdown",
   "metadata": {},
   "source": [
    "# Zadanie 6"
   ]
  },
  {
   "cell_type": "code",
   "execution_count": 6,
   "metadata": {},
   "outputs": [
    {
     "name": "stdout",
     "output_type": "stream",
     "text": [
      "Rozwiązanie:\n",
      "[[1.]\n",
      " [1.]\n",
      " [1.]\n",
      " [1.]]\n",
      "Det(A)=-0.22579733999999974\n",
      "Sprawdzenie rozwiązania, A*x:\n",
      "[[ 7.31]\n",
      " [ 4.23]\n",
      " [13.85]\n",
      " [11.55]]\n"
     ]
    }
   ],
   "source": [
    "A = np.matrix([\n",
    "    [3.50, 2.77, -0.76, 1.80],\n",
    "    [-1.80, 2.68, 3.44, -0.09],\n",
    "    [0.27, 5.07, 6.9, 1.61],\n",
    "    [1.71, 5.45, 2.68, 1.71]\n",
    "])\n",
    "b = np.matrix([[7.31], [4.23], [13.85], [11.55]])\n",
    "\n",
    "A_inv = matrix_inv(A)\n",
    "\n",
    "x = np.matmul(A_inv,b)\n",
    "\n",
    "print(\"Rozwiązanie:\")\n",
    "print(x) \n",
    "print(\"Det(A)={}\".format(det(A)))\n",
    "print(\"Sprawdzenie rozwiązania, A*x:\")\n",
    "print(matmul(A,x))\n"
   ]
  },
  {
   "cell_type": "markdown",
   "metadata": {},
   "source": [
    "Wyznacznik macierzy nie jest dużo mniejszy niż najmniejsza wartość macierzy A, zatem jest dobrze uwarunkowana. Po sprawdzeniu rozwiązania, czyli wykonaniu mnożenia A*x otrzymaliśmy b, zatem rozwiązanie jest dokładne."
   ]
  },
  {
   "cell_type": "markdown",
   "metadata": {},
   "source": [
    "# Zadanie 7"
   ]
  },
  {
   "cell_type": "code",
   "execution_count": 7,
   "metadata": {},
   "outputs": [],
   "source": [
    "A = np.matrix([\n",
    "    [10, -2, -1, 2, 3, 1, -4, 7],\n",
    "    [5, 11, 3, 10, -3, 3, 3, -4],\n",
    "    [7, 12, 1, 5, 3, -12, 2, 3],\n",
    "    [8, 7, -2, 1, 3, 2, 2, 4],\n",
    "    [2, -15, -1, 1, 4, -1, 8, 3],\n",
    "    [4, 2, 9, 1, 12, -1, 4, 1],\n",
    "    [-1, 4, -7, -1, 1, 1, -1, -3],\n",
    "    [-1, 3, 4, 1, 3, -4, 7, 6]\n",
    "])\n",
    "b = np.matrix([[0],[12],[-5],[3],[-25],[-26],[9],[-7]])\n",
    "\n",
    "A_inv = matrix_inv(A)\n",
    "x = matmul(A_inv,b)"
   ]
  },
  {
   "cell_type": "code",
   "execution_count": 8,
   "metadata": {},
   "outputs": [
    {
     "name": "stdout",
     "output_type": "stream",
     "text": [
      "Rozwiązanie: x = \n",
      "[[-1.]\n",
      " [ 1.]\n",
      " [-1.]\n",
      " [ 1.]\n",
      " [-1.]\n",
      " [ 1.]\n",
      " [-1.]\n",
      " [ 1.]]\n",
      "Sprawdzenie: A*x = \n",
      "[[  0.]\n",
      " [ 12.]\n",
      " [ -5.]\n",
      " [  3.]\n",
      " [-25.]\n",
      " [-26.]\n",
      " [  9.]\n",
      " [ -7.]]\n"
     ]
    }
   ],
   "source": [
    "print(\"Rozwiązanie: x = \")\n",
    "print(x)\n",
    "print(\"Sprawdzenie: A*x = \")\n",
    "print(matmul(A,x))\n"
   ]
  },
  {
   "cell_type": "markdown",
   "metadata": {},
   "source": [
    "# Zadanie 8"
   ]
  },
  {
   "cell_type": "code",
   "execution_count": 9,
   "metadata": {},
   "outputs": [
    {
     "name": "stdout",
     "output_type": "stream",
     "text": [
      "[[0.84 0.68 0.52 0.36 0.2  0.04]\n",
      " [0.68 1.36 1.04 0.72 0.4  0.08]\n",
      " [0.52 1.04 1.56 1.08 0.6  0.12]\n",
      " [0.36 0.72 1.08 1.44 0.8  0.16]\n",
      " [0.2  0.4  0.6  0.8  1.   0.2 ]\n",
      " [0.04 0.08 0.12 0.16 0.2  0.24]]\n"
     ]
    }
   ],
   "source": [
    "A = np.matrix([\n",
    "    [2, -1, 0, 0, 0, 0],\n",
    "    [-1, 2, -1, 0, 0, 0],\n",
    "    [0, -1, 2, -1, 0, 0],\n",
    "    [0, 0, -1, 2, -1, 0],\n",
    "    [0, 0, 0, -1, 2, -1],\n",
    "    [0, 0, 0, 0, -1, 5]\n",
    "])\n",
    "\n",
    "print(matrix_inv(A))\n",
    "\n"
   ]
  },
  {
   "cell_type": "markdown",
   "metadata": {},
   "source": [
    "Macierz odwrotna nie jest trójdiagonalna. "
   ]
  },
  {
   "cell_type": "markdown",
   "metadata": {},
   "source": [
    "# Zadanie 9"
   ]
  },
  {
   "cell_type": "code",
   "execution_count": 10,
   "metadata": {},
   "outputs": [
    {
     "ename": "ValueError",
     "evalue": "Nie można odwrócić macierzy: macierz osobliwa",
     "output_type": "error",
     "traceback": [
      "\u001b[1;31m---------------------------------------------------------------------------\u001b[0m",
      "\u001b[1;31mValueError\u001b[0m                                Traceback (most recent call last)",
      "Cell \u001b[1;32mIn[10], line 8\u001b[0m\n\u001b[0;32m      1\u001b[0m A \u001b[38;5;241m=\u001b[39m np\u001b[38;5;241m.\u001b[39mmatrix([\n\u001b[0;32m      2\u001b[0m     [\u001b[38;5;241m1\u001b[39m, \u001b[38;5;241m3\u001b[39m, \u001b[38;5;241m-\u001b[39m\u001b[38;5;241m9\u001b[39m, \u001b[38;5;241m6\u001b[39m, \u001b[38;5;241m4\u001b[39m],\n\u001b[0;32m      3\u001b[0m     [\u001b[38;5;241m2\u001b[39m, \u001b[38;5;241m-\u001b[39m\u001b[38;5;241m1\u001b[39m, \u001b[38;5;241m6\u001b[39m, \u001b[38;5;241m7\u001b[39m, \u001b[38;5;241m1\u001b[39m],\n\u001b[1;32m   (...)\u001b[0m\n\u001b[0;32m      6\u001b[0m     [\u001b[38;5;241m11\u001b[39m, \u001b[38;5;241m1\u001b[39m, \u001b[38;5;241m-\u001b[39m\u001b[38;5;241m2\u001b[39m, \u001b[38;5;241m18\u001b[39m, \u001b[38;5;241m7\u001b[39m]\n\u001b[0;32m      7\u001b[0m ])\n\u001b[1;32m----> 8\u001b[0m A_inv \u001b[38;5;241m=\u001b[39m \u001b[43mmatrix_inv\u001b[49m\u001b[43m(\u001b[49m\u001b[43mA\u001b[49m\u001b[43m)\u001b[49m \n\u001b[0;32m      9\u001b[0m \u001b[38;5;28mprint\u001b[39m(A_inv)\n",
      "Cell \u001b[1;32mIn[3], line 45\u001b[0m, in \u001b[0;36mmatrix_inv\u001b[1;34m(A)\u001b[0m\n\u001b[0;32m     43\u001b[0m det_A \u001b[38;5;241m=\u001b[39m det(A)\n\u001b[0;32m     44\u001b[0m \u001b[38;5;28;01mif\u001b[39;00m det_A \u001b[38;5;241m==\u001b[39m \u001b[38;5;241m0\u001b[39m:\n\u001b[1;32m---> 45\u001b[0m     \u001b[38;5;28;01mraise\u001b[39;00m \u001b[38;5;167;01mValueError\u001b[39;00m(\u001b[38;5;124m\"\u001b[39m\u001b[38;5;124mNie można odwrócić macierzy: macierz osobliwa\u001b[39m\u001b[38;5;124m\"\u001b[39m)\n\u001b[0;32m     46\u001b[0m D \u001b[38;5;241m=\u001b[39m dopelnienie(A)\n\u001b[0;32m     47\u001b[0m D_T \u001b[38;5;241m=\u001b[39m np\u001b[38;5;241m.\u001b[39mmatrix\u001b[38;5;241m.\u001b[39mtranspose(D)\n",
      "\u001b[1;31mValueError\u001b[0m: Nie można odwrócić macierzy: macierz osobliwa"
     ]
    }
   ],
   "source": [
    "A = np.matrix([\n",
    "    [1, 3, -9, 6, 4],\n",
    "    [2, -1, 6, 7, 1],\n",
    "    [3, 2, -3, 15, 5],\n",
    "    [8, -1, 1, 4, 2],\n",
    "    [11, 1, -2, 18, 7]\n",
    "])\n",
    "A_inv = matrix_inv(A) \n",
    "print(A_inv)"
   ]
  },
  {
   "cell_type": "markdown",
   "metadata": {},
   "source": [
    "Nie można odwrócić tej macierzy, gdyż jest ona nieosobliwa"
   ]
  },
  {
   "cell_type": "code",
   "execution_count": null,
   "metadata": {},
   "outputs": [
    {
     "data": {
      "text/plain": [
       "matrix([[ 2. ,  0. ,  2. , -4. ,  4. ],\n",
       "        [-0.5,  1.5, -0.5, -1. ,  1. ],\n",
       "        [-1. ,  0. ,  4. , -2. ,  2. ],\n",
       "        [ 0. ,  0. , -1. ,  0. ,  0. ],\n",
       "        [ 1. ,  0. ,  0. , -6. ,  6. ]])"
      ]
     },
     "execution_count": 96,
     "metadata": {},
     "output_type": "execute_result"
    }
   ],
   "source": [
    "A_inv = np.linalg.inv(A)\n",
    "np.matmul(A,A_inv)"
   ]
  },
  {
   "cell_type": "markdown",
   "metadata": {},
   "source": [
    "Metody z biblioteki numpy też sobie z tym nie poradziły, gdyż końcowo z mnożenia $A* A^{-1}$ nie wyszła nam macierz jednostkowa"
   ]
  }
 ],
 "metadata": {
  "kernelspec": {
   "display_name": "Python 3",
   "language": "python",
   "name": "python3"
  },
  "language_info": {
   "codemirror_mode": {
    "name": "ipython",
    "version": 3
   },
   "file_extension": ".py",
   "mimetype": "text/x-python",
   "name": "python",
   "nbconvert_exporter": "python",
   "pygments_lexer": "ipython3",
   "version": "3.12.2"
  }
 },
 "nbformat": 4,
 "nbformat_minor": 2
}
