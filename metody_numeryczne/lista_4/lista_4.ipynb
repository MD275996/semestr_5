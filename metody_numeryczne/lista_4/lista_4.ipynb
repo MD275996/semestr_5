{
 "cells": [
  {
   "cell_type": "code",
   "execution_count": 577,
   "metadata": {},
   "outputs": [],
   "source": [
    "import numpy as np\n",
    "import timeit\n",
    "import scipy.linalg\n",
    "import warnings\n",
    "import math\n",
    "import matplotlib.pyplot as plt\n",
    "import pandas as pd\n",
    "import cmath\n",
    "from random import random\n",
    "\n",
    "warnings.filterwarnings('ignore')"
   ]
  },
  {
   "cell_type": "code",
   "execution_count": 578,
   "metadata": {},
   "outputs": [
    {
     "name": "stdout",
     "output_type": "stream",
     "text": [
      "Jednostka maszynowa tej jednostki to : 1.1102230246251565e-16\n"
     ]
    }
   ],
   "source": [
    "#obliczenie jednostki maszynowej\n",
    "epsilon = 0.5\n",
    "while True:\n",
    "    if 1 + epsilon != 1:\n",
    "        epsilon = epsilon/2\n",
    "    else:\n",
    "        print(\"Jednostka maszynowa tej jednostki to : {}\".format(epsilon))\n",
    "        break"
   ]
  },
  {
   "cell_type": "markdown",
   "metadata": {},
   "source": [
    "# Definicje funkcji"
   ]
  },
  {
   "cell_type": "markdown",
   "metadata": {},
   "source": [
    "### rootsearch"
   ]
  },
  {
   "cell_type": "code",
   "execution_count": 579,
   "metadata": {},
   "outputs": [],
   "source": [
    "def rootsearch(f,a,b,dx):\n",
    "    x1 = a; f1 = f(a)\n",
    "    x2 = a + dx; f2 = f(x2)\n",
    "    while np.sign(f1) == np.sign(f2):\n",
    "        if x1 >= b:\n",
    "            return None,None\n",
    "        x1 = x2; f1 = f2\n",
    "        x2 = x1 + dx; f2 = f(x2)\n",
    "    else:\n",
    "        return x1,x2"
   ]
  },
  {
   "cell_type": "markdown",
   "metadata": {},
   "source": [
    "### bisekcja"
   ]
  },
  {
   "cell_type": "code",
   "execution_count": 580,
   "metadata": {},
   "outputs": [],
   "source": [
    "def bisection(f,x1,x2,switch=1,epsilon= 1.0e-9):\n",
    "    f1 = f(x1)\n",
    "    if f1 == 0.0: return x1\n",
    "    f2 = f(x2)\n",
    "    if f2 == 0.0: return x2\n",
    "    if np.sign(f1) == np.sign(f2):\n",
    "        raise ValueError(\"Znaki są równe\")\n",
    "    n = int(math.ceil(math.log(abs(x2 - x1)/epsilon)/math.log(2.0)))\n",
    "    add_num_operations = 0\n",
    "    product_num_operations = 0\n",
    "    for i in range(n):\n",
    "        x3 = 0.5*(x1 + x2); f3 = f(x3)\n",
    "        add_num_operations += 1\n",
    "        product_num_operations += 1\n",
    "        if (switch == 1) and (abs(f3) > abs(f1)) and (abs(f3) > abs(f2)):\n",
    "            return None\n",
    "        if f3 == 0.0: return x3\n",
    "        if np.sign(f2)!= np.sign(f3): x1 = x3; f1 = f3\n",
    "        else: x2 = x3; f2 = f3\n",
    "\n",
    "    return (x1 + x2)/2.0, n, add_num_operations, product_num_operations"
   ]
  },
  {
   "cell_type": "markdown",
   "metadata": {},
   "source": [
    "### metoda Newtona"
   ]
  },
  {
   "cell_type": "code",
   "execution_count": 581,
   "metadata": {},
   "outputs": [],
   "source": [
    "def newton(f,df,x0,epsilon= 1e-16,max_iter=1000):\n",
    "    xn = x0\n",
    "    add_num_operations = 0\n",
    "    product_num_operations = 0\n",
    "    for n in range(0,max_iter):\n",
    "        fxn = f(xn)\n",
    "        if abs(fxn) < epsilon:\n",
    "            return xn, n, add_num_operations, product_num_operations\n",
    "        Dfxn = df(xn)\n",
    "        if Dfxn == 0:\n",
    "            raise ZeroDivisionError(\"Dzielenie przez zero w metodzie siecznych\")\n",
    "        xn = xn - fxn/Dfxn\n",
    "        add_num_operations += 1\n",
    "        product_num_operations += 1\n",
    "    print(\"Exceeded maximum iterations. No solution found.\")\n",
    "    return None"
   ]
  },
  {
   "cell_type": "markdown",
   "metadata": {},
   "source": [
    "### metoda siecznych"
   ]
  },
  {
   "cell_type": "code",
   "execution_count": 582,
   "metadata": {},
   "outputs": [],
   "source": [
    "def secant(f, x0, x1, epsilon=1e-16, max_iter=1000):\n",
    "    add_num_operations = 0\n",
    "    product_num_operations = 0\n",
    "    for iteration in range(max_iter):\n",
    "        f_x0 = f(x0)\n",
    "        f_x1 = f(x1)\n",
    "        if abs(f_x1 - f_x0) < 1e-12:\n",
    "            raise ZeroDivisionError(\"Dzielenie przez zero w metodzie siecznych\")\n",
    "\n",
    "        x2 = x1 - f_x1 * (x1 - x0) / (f_x1 - f_x0)\n",
    "        add_num_operations += 3\n",
    "        product_num_operations += 2\n",
    "\n",
    "        if abs(x2 - x1) < epsilon:\n",
    "            return x2, iteration + 1, add_num_operations, product_num_operations \n",
    "\n",
    "        x0, x1 = x1, x2\n",
    "\n",
    "    raise RuntimeError(\"Metoda siecznych nie znalazła rozwiązania po maksymalnej liczbie iteracji\")"
   ]
  },
  {
   "cell_type": "markdown",
   "metadata": {},
   "source": [
    "### metoda Brenta"
   ]
  },
  {
   "cell_type": "code",
   "execution_count": 583,
   "metadata": {},
   "outputs": [],
   "source": [
    "def brent(f, a, b, epsilon=1e-16, max_iter=1000):\n",
    "    fa, fb = f(a), f(b)\n",
    "    if fa * fb > 0:\n",
    "        raise ValueError(\"Funkcja musi zmieniać znak w przedziale [a, b]\")\n",
    "\n",
    "    add_num_operations = 0\n",
    "    product_num_operations = 0\n",
    "    c, fc = a, fa\n",
    "    for iteration in range(max_iter):\n",
    "        if fb != fc and fa != fc:\n",
    "            s = a * fb * fc / ((fa - fb) * (fa - fc)) + \\\n",
    "                b * fa * fc / ((fb - fa) * (fb - fc)) + \\\n",
    "                c * fa * fb / ((fc - fa) * (fc - fb))\n",
    "            add_num_operations += 8\n",
    "            product_num_operations += 12\n",
    "        else:\n",
    "            s = b - fb * (b - a) / (fb - fa)\n",
    "            add_num_operations += 3\n",
    "            product_num_operations += 2\n",
    "\n",
    "        if not (a < s < b):\n",
    "            s = (a + b) / 2\n",
    "            add_num_operations += 1\n",
    "            product_num_operations += 1\n",
    "\n",
    "        fs = f(s)\n",
    "        d, c, fc = b - a, b, fb\n",
    "        if abs(fs) < epsilon:\n",
    "            return s, iteration + 1, add_num_operations, product_num_operations\n",
    "\n",
    "        product_num_operations += 1\n",
    "        if fa * fs < 0:\n",
    "            b, fb = s, fs\n",
    "        else:\n",
    "            a, fa = s, fs\n",
    "\n",
    "    raise RuntimeError(\"Metoda Brenta nie znalazła rozwiązania po maksymalnej liczbie iteracji\")"
   ]
  },
  {
   "cell_type": "markdown",
   "metadata": {},
   "source": [
    "### metoda Laguerra"
   ]
  },
  {
   "cell_type": "code",
   "execution_count": 584,
   "metadata": {},
   "outputs": [],
   "source": [
    "def evalPoly(a,x):\n",
    "    n = len(a) - 1\n",
    "    p = a[n]\n",
    "    dp = 0.0 + 0.0j\n",
    "    ddp = 0.0 + 0.0j\n",
    "    for i in range(1,n+1):\n",
    "        ddp = ddp*x + 2.0*dp\n",
    "        dp = dp*x + p\n",
    "        p = p*x + a[n-i]\n",
    "    return p,dp,ddp\n",
    "\n",
    "def polyRoots(a,tol=1.0e-12):\n",
    "\n",
    "    def laguerre(a,tol):\n",
    "        x = random() # Starting value (random number)\n",
    "        n = len(a) - 1\n",
    "    \n",
    "        for i in range(30):\n",
    "            p,dp,ddp = evalPoly(a,x)\n",
    "            if abs(p) < tol: \n",
    "                return x\n",
    "            g = dp/p\n",
    "            h = g*g - ddp/p\n",
    "            f = cmath.sqrt((n - 1)*(n*h - g*g))\n",
    "            if abs(g + f) > abs(g - f): \n",
    "                dx = n/(g + f)\n",
    "            else: \n",
    "                dx = n/(g - f)\n",
    "            x = x - dx\n",
    "            if abs(dx) < tol: \n",
    "                return x\n",
    "        print('Too many iterations')\n",
    "        \n",
    "        \n",
    "    def deflPoly(a,root):\n",
    "        # Deflates a polynomial\n",
    "        n = len(a)-1\n",
    "        b = [(0.0 + 0.0j)]*n\n",
    "        b[n-1] = a[n]\n",
    "        for i in range(n-2,-1,-1):\n",
    "            b[i] = a[i+1] + root*b[i+1]\n",
    "        return b\n",
    "\n",
    "\n",
    "    n = len(a) - 1\n",
    "    roots = np.zeros((n),dtype=complex)\n",
    "    for i in range(n):\n",
    "        x = laguerre(a,tol)\n",
    "        if abs(x.imag) < tol: x = x.real\n",
    "        roots[i] = x\n",
    "        a = deflPoly(a,x)\n",
    "    return roots"
   ]
  },
  {
   "cell_type": "markdown",
   "metadata": {},
   "source": [
    "# Zadanie 1\n"
   ]
  },
  {
   "cell_type": "markdown",
   "metadata": {},
   "source": [
    "Definiujemy funkcję podaną w zadaniu oraz jej pochodną"
   ]
  },
  {
   "cell_type": "code",
   "execution_count": 585,
   "metadata": {},
   "outputs": [],
   "source": [
    "def f(x):\n",
    "    return np.tan(np.pi - x) - x\n",
    "\n",
    "def df(x):\n",
    "    return -1 * (1/np.cos(x))**2 - 1"
   ]
  },
  {
   "cell_type": "markdown",
   "metadata": {},
   "source": [
    "Ustawiamy wejściowe parametry"
   ]
  },
  {
   "cell_type": "code",
   "execution_count": 586,
   "metadata": {},
   "outputs": [],
   "source": [
    "a, b = 2.0, 3.0 \n",
    "x0 = 2.5 \n",
    "x1 = 2.7 "
   ]
  },
  {
   "cell_type": "markdown",
   "metadata": {},
   "source": [
    "Następnie zgodnie z poleceniem zadania sprawdzę implementację każdej z zdefiniowanych metod rozwiązania"
   ]
  },
  {
   "cell_type": "code",
   "execution_count": 587,
   "metadata": {},
   "outputs": [
    {
     "name": "stdout",
     "output_type": "stream",
     "text": [
      "\n",
      "Podsumowanie wyników\n"
     ]
    },
    {
     "data": {
      "text/html": [
       "<div>\n",
       "<style scoped>\n",
       "    .dataframe tbody tr th:only-of-type {\n",
       "        vertical-align: middle;\n",
       "    }\n",
       "\n",
       "    .dataframe tbody tr th {\n",
       "        vertical-align: top;\n",
       "    }\n",
       "\n",
       "    .dataframe thead th {\n",
       "        text-align: right;\n",
       "    }\n",
       "</style>\n",
       "<table border=\"1\" class=\"dataframe\">\n",
       "  <thead>\n",
       "    <tr style=\"text-align: right;\">\n",
       "      <th></th>\n",
       "      <th>Metoda</th>\n",
       "      <th>x</th>\n",
       "      <th>f(x)</th>\n",
       "      <th>Liczba iteracji</th>\n",
       "      <th>Liczba dodawań</th>\n",
       "      <th>Liczba mnożeń</th>\n",
       "    </tr>\n",
       "  </thead>\n",
       "  <tbody>\n",
       "    <tr>\n",
       "      <th>0</th>\n",
       "      <td>Bisekcja</td>\n",
       "      <td>2.028758</td>\n",
       "      <td>2.676717e-10</td>\n",
       "      <td>30</td>\n",
       "      <td>30</td>\n",
       "      <td>30</td>\n",
       "    </tr>\n",
       "    <tr>\n",
       "      <th>1</th>\n",
       "      <td>Newtona</td>\n",
       "      <td>2.028758</td>\n",
       "      <td>0.000000e+00</td>\n",
       "      <td>7</td>\n",
       "      <td>7</td>\n",
       "      <td>7</td>\n",
       "    </tr>\n",
       "    <tr>\n",
       "      <th>2</th>\n",
       "      <td>Siecznych</td>\n",
       "      <td>2.028758</td>\n",
       "      <td>0.000000e+00</td>\n",
       "      <td>11</td>\n",
       "      <td>33</td>\n",
       "      <td>22</td>\n",
       "    </tr>\n",
       "    <tr>\n",
       "      <th>3</th>\n",
       "      <td>Brenta</td>\n",
       "      <td>2.028758</td>\n",
       "      <td>0.000000e+00</td>\n",
       "      <td>7</td>\n",
       "      <td>36</td>\n",
       "      <td>50</td>\n",
       "    </tr>\n",
       "  </tbody>\n",
       "</table>\n",
       "</div>"
      ],
      "text/plain": [
       "      Metoda         x          f(x)  Liczba iteracji  Liczba dodawań  \\\n",
       "0   Bisekcja  2.028758  2.676717e-10               30              30   \n",
       "1    Newtona  2.028758  0.000000e+00                7               7   \n",
       "2  Siecznych  2.028758  0.000000e+00               11              33   \n",
       "3     Brenta  2.028758  0.000000e+00                7              36   \n",
       "\n",
       "   Liczba mnożeń  \n",
       "0             30  \n",
       "1              7  \n",
       "2             22  \n",
       "3             50  "
      ]
     },
     "execution_count": 587,
     "metadata": {},
     "output_type": "execute_result"
    }
   ],
   "source": [
    "results = []\n",
    "\n",
    "root_bis, iterations_bis, additions_bis, product_bis = bisection(f, a, b)\n",
    "results.append([\"Bisekcja\", root_bis, f(root_bis), iterations_bis, additions_bis, product_bis])\n",
    "\n",
    "root_newton, iterations_newton, additions_newton, product_newton = newton(f, df, x0)\n",
    "results.append([\"Newtona\", root_newton, f(root_newton), iterations_newton, additions_newton, product_newton])\n",
    "\n",
    "root_s, iterations_s, additions_s, products_s = secant(f, x0, x1)\n",
    "results.append([\"Siecznych\", root_s, f(root_s), iterations_s, additions_s, products_s])\n",
    "\n",
    "root_brent, iterations_brent, additions_brent, products_brent = brent(f, a, b)\n",
    "results.append([\"Brenta\", root_brent, f(root_brent), iterations_brent, additions_brent, products_brent])\n",
    "\n",
    "table = pd.DataFrame(results, columns=[\"Metoda\", \"x\", \"f(x)\", \"Liczba iteracji\", \"Liczba dodawań\", \"Liczba mnożeń\"])\n",
    "\n",
    "print(\"\\nPodsumowanie wyników\")\n",
    "table\n"
   ]
  },
  {
   "cell_type": "markdown",
   "metadata": {},
   "source": [
    "# Zadanie 2"
   ]
  },
  {
   "cell_type": "markdown",
   "metadata": {},
   "source": [
    "Rozpoczynamy od zdefiniowania funkcji i pochodnych "
   ]
  },
  {
   "cell_type": "code",
   "execution_count": 588,
   "metadata": {},
   "outputs": [],
   "source": [
    "def f(x):\n",
    "    return np.cosh(x) * np.cos(x) - 1\n",
    "def df(x):\n",
    "    return (np.cos(x) * np.sinh(x)) - (np.sin(x) * np.cosh(x))\n",
    "def ddf(x):\n",
    "    return -2 * np.sin(x) * np.sinh(x)"
   ]
  },
  {
   "cell_type": "markdown",
   "metadata": {},
   "source": [
    "Definiujemy przedział"
   ]
  },
  {
   "cell_type": "code",
   "execution_count": 589,
   "metadata": {},
   "outputs": [],
   "source": [
    "x_range = np.linspace(4,8,1000)"
   ]
  },
  {
   "cell_type": "markdown",
   "metadata": {},
   "source": [
    "Wyrysujemy wykres funkcji"
   ]
  },
  {
   "cell_type": "code",
   "execution_count": 590,
   "metadata": {},
   "outputs": [
    {
     "data": {
      "image/png": "[encoded data removed]",
      "text/plain": [
       "<Figure size 640x480 with 1 Axes>"
      ]
     },
     "metadata": {},
     "output_type": "display_data"
    }
   ],
   "source": [
    "plt.plot(x_range,f(x_range))\n",
    "plt.axhline(0, color='black', linewidth=1, linestyle='-')\n",
    "plt.xlabel('x')\n",
    "plt.ylabel('f(x)')\n",
    "plt.title('Wykres funkcji $f(x)$')\n",
    "plt.show()"
   ]
  },
  {
   "cell_type": "markdown",
   "metadata": {},
   "source": [
    "Zawężamy rozpatrywany przedział do [4,5]"
   ]
  },
  {
   "cell_type": "code",
   "execution_count": 591,
   "metadata": {},
   "outputs": [],
   "source": [
    "x_range = np.linspace(4,5,1000)\n",
    "a=4\n",
    "b=5"
   ]
  },
  {
   "cell_type": "markdown",
   "metadata": {},
   "source": [
    "Sprawdzamy warunki do metody Newtona: funkcja musi być ciągła, f(a)*f(b)<0 , f'(x) oraz f''(x) mają stały znak na rozpatrywanym przedziale\n"
   ]
  },
  {
   "cell_type": "code",
   "execution_count": 592,
   "metadata": {},
   "outputs": [
    {
     "name": "stdout",
     "output_type": "stream",
     "text": [
      "-38.900408371975246\n"
     ]
    }
   ],
   "source": [
    "print(f(a)-f(b))"
   ]
  },
  {
   "cell_type": "code",
   "execution_count": 593,
   "metadata": {},
   "outputs": [
    {
     "data": {
      "image/png": "[encoded data removed]",
      "text/plain": [
       "<Figure size 640x480 with 1 Axes>"
      ]
     },
     "metadata": {},
     "output_type": "display_data"
    }
   ],
   "source": [
    "plt.plot(x_range,df(x_range), label='1 pochodna')\n",
    "plt.plot(x_range,ddf(x_range), label='2 pochodna')\n",
    "plt.xlabel('x')\n",
    "plt.title('Wykres pochodnych')\n",
    "plt.legend()\n",
    "plt.show()"
   ]
  },
  {
   "cell_type": "markdown",
   "metadata": {},
   "source": [
    "Teraz przystąpujemy do zastosowania metody"
   ]
  },
  {
   "cell_type": "code",
   "execution_count": 594,
   "metadata": {},
   "outputs": [
    {
     "name": "stdout",
     "output_type": "stream",
     "text": [
      "Exceeded maximum iterations. No solution found.\n"
     ]
    }
   ],
   "source": [
    "x0 = 4\n",
    "root_newton = newton(f, df, x0, epsilon)"
   ]
  },
  {
   "cell_type": "markdown",
   "metadata": {},
   "source": [
    "Tak jak zakładano, zaczynając od 4 metoda nie doprowadzi do pierwiastka"
   ]
  },
  {
   "cell_type": "markdown",
   "metadata": {},
   "source": [
    "# Zadanie 3\n",
    "\n",
    "Definiujemy funkcję obliczania prędkości rakiety"
   ]
  },
  {
   "cell_type": "code",
   "execution_count": 595,
   "metadata": {},
   "outputs": [],
   "source": [
    "def velocity(t):\n",
    "    g = 9.81  # przyspieszenie ziemskie [m/s^2]\n",
    "\n",
    "    # Dziedzina logarytmu musi być dodatnia\n",
    "    if M_0 - m_dot * t <= 0:\n",
    "        return np.nan\n",
    "\n",
    "    return u * np.log(M_0 / (M_0 - m_dot * t)) - g * t - 335 "
   ]
  },
  {
   "cell_type": "markdown",
   "metadata": {},
   "source": [
    "Argumenty funkcji zdefiniowane są potem, aby móc ją wsadzić do bisekcji"
   ]
  },
  {
   "cell_type": "code",
   "execution_count": 596,
   "metadata": {},
   "outputs": [],
   "source": [
    "u = 2510  # prędkość spalin względem rakiety [m/s]\n",
    "M_0 = 2.8e6  # masa rakiety w momencie oderwania od Ziemi [kg]\n",
    "m_dot = 13.3e3  # szybkość zużycia paliwa [kg/s]\n",
    "t_range = np.linspace(a,b,10**4)\n",
    "\n",
    "t_max = M_0 / m_dot  # Maksymalny czas, zanim paliwo się skończy\n",
    "a, b = 0, t_max - 1e-6  # Przedział dla metod\n"
   ]
  },
  {
   "cell_type": "markdown",
   "metadata": {},
   "source": [
    "I wyszukuję rozwiązań"
   ]
  },
  {
   "cell_type": "code",
   "execution_count": 597,
   "metadata": {},
   "outputs": [
    {
     "name": "stdout",
     "output_type": "stream",
     "text": [
      "Czas osiągnięcia prędkości dźwięku (metoda bisekcji): 70.877972\n",
      "Czas osiągnięcia prędkości dźwięku (metoda Brenta): 70.877972\n",
      "Rozwiązanie scipy: 70.87797226808105\n"
     ]
    }
   ],
   "source": [
    "root_bisection, _ , __ , ___  = bisection(velocity, a, b)\n",
    "print(f\"Czas osiągnięcia prędkości dźwięku (metoda bisekcji): {root_bisection:.6f}\")\n",
    "\n",
    "root_brent, _, __, ___ = brent(velocity, a, b, max_iter=10000)\n",
    "print(f\"Czas osiągnięcia prędkości dźwięku (metoda Brenta): {root_brent:.6f}\")\n",
    "\n",
    "\n",
    "x_root_scipy = scipy.optimize.fsolve(velocity, 0)\n",
    "print('Rozwiązanie scipy:', x_root_scipy[0])"
   ]
  },
  {
   "cell_type": "markdown",
   "metadata": {},
   "source": [
    "Uzyskane wyniki pokrywają się z rozwiązniem uzyskanym poprzez pakiet scipy"
   ]
  },
  {
   "cell_type": "markdown",
   "metadata": {},
   "source": [
    "# Zadanie 4"
   ]
  },
  {
   "cell_type": "markdown",
   "metadata": {},
   "source": [
    "Definiujemy funkcję\n"
   ]
  },
  {
   "cell_type": "code",
   "execution_count": 598,
   "metadata": {},
   "outputs": [],
   "source": [
    "def G(T):\n",
    "    return -8.31441 * T * np.log(np.power(T/4.44418,5/2))\n",
    "\n",
    "def f(x):\n",
    "    return G(x) + 10**5"
   ]
  },
  {
   "cell_type": "markdown",
   "metadata": {},
   "source": [
    "Wyszukujemy przedział na którym występuje miejsce zerowe"
   ]
  },
  {
   "cell_type": "code",
   "execution_count": 599,
   "metadata": {},
   "outputs": [
    {
     "data": {
      "text/plain": [
       "[<matplotlib.lines.Line2D at 0x1d6ceda8c20>]"
      ]
     },
     "execution_count": 599,
     "metadata": {},
     "output_type": "execute_result"
    },
    {
     "data": {
      "image/png": "[encoded data removed]",
      "text/plain": [
       "<Figure size 640x480 with 1 Axes>"
      ]
     },
     "metadata": {},
     "output_type": "display_data"
    }
   ],
   "source": [
    "a = 800\n",
    "b = 1000\n",
    "x_range = np.linspace(a,b,10**6)\n",
    "\n",
    "plt.plot(x_range, f(x_range))"
   ]
  },
  {
   "cell_type": "markdown",
   "metadata": {},
   "source": [
    "Używamy metody bisekcji "
   ]
  },
  {
   "cell_type": "code",
   "execution_count": 600,
   "metadata": {},
   "outputs": [
    {
     "name": "stdout",
     "output_type": "stream",
     "text": [
      "Metoda bisekcji (własna): 904.942583232696\n",
      "Metoda bisekcji (scipy): 904.9425832328805\n"
     ]
    }
   ],
   "source": [
    "root, _, __, ___ = bisection(f, a, b)\n",
    "print('Metoda bisekcji (własna):', root)\n",
    "\n",
    "x_root_scipy = scipy.optimize.newton(f, x0, x1=x1)\n",
    "print('Metoda bisekcji (scipy):', x_root_scipy)"
   ]
  },
  {
   "cell_type": "markdown",
   "metadata": {},
   "source": [
    "# Zadanie 5"
   ]
  },
  {
   "cell_type": "markdown",
   "metadata": {},
   "source": [
    "Mamy układ równań\n",
    "\n",
    "$$\n",
    "\\begin{cases}\n",
    "\\tan(x) - y = 1 \\\\\n",
    "\\cos(x) - 3\\sin(y) = 0\n",
    "\\end{cases}\n",
    "$$\n",
    "\n",
    "Przekształcamy je do równania o jednej zmiennej. Z pierwszego równania mamy\n",
    "\n",
    "$$\n",
    "y = \\tan(x) - 1\n",
    "$$\n",
    "\n",
    "Wrzucamy to do pierwszego równania\n",
    "\n",
    "$$\n",
    "\\cos(x) - 3\\sin(\\tan(x) - 1) = 0\n",
    "$$\n",
    "\n",
    "Pochodna tej funkcji wynosi\n",
    "\n",
    "$$\n",
    "f'(x) = -\\sin(x) - 3\\cos(\\tan(x) - 1) \\cdot (\\frac{1}{\\cos^2(x)})\n",
    "$$"
   ]
  },
  {
   "cell_type": "code",
   "execution_count": 601,
   "metadata": {},
   "outputs": [],
   "source": [
    "def f(x):\n",
    "    if np.abs(np.cos(x)) < 1e-16: \n",
    "        return np.nan\n",
    "    return np.cos(x) - 3 * np.sin(np.tan(x) - 1)\n",
    "\n",
    "def df(x):\n",
    "    if np.abs(np.cos(x)) < 1e-16: \n",
    "        return np.nan\n",
    "    return -np.sin(x) - 3 * np.cos(np.tan(x) - 1) * (1 / np.cos(x)**2)"
   ]
  },
  {
   "cell_type": "markdown",
   "metadata": {},
   "source": [
    "Definiujemy podstawowe własności i zakres w celu wykorzystania razem z metodą Newtona"
   ]
  },
  {
   "cell_type": "code",
   "execution_count": 602,
   "metadata": {},
   "outputs": [
    {
     "name": "stdout",
     "output_type": "stream",
     "text": [
      "Znalezione rozwiązania:\n",
      "x = 1.4973\n",
      "x = 1.4749\n",
      "x = 1.4352\n",
      "x = 0.8816\n",
      "x = 1.3294\n"
     ]
    }
   ],
   "source": [
    "x0_values = np.linspace(0.1, 1.5, 100)\n",
    "\n",
    "epsilon = 1e-6\n",
    "maxit = 100\n",
    "\n",
    "solutions = []\n",
    "for x0 in x0_values:\n",
    "    try:\n",
    "        root, _, __, ___ = newton(f, df, x0, epsilon, maxit)\n",
    "        # Sprawdzamy, czy rozwiązanie jest w zadanym przedziale\n",
    "        if root is not None and 0 < root < 1.5 and all(abs(root - sol) > epsilon for sol in solutions):\n",
    "            solutions.append(root)\n",
    "    except RuntimeError:\n",
    "        pass\n",
    "\n",
    "print(\"Znalezione rozwiązania:\")\n",
    "for sol in solutions:\n",
    "    print(f\"x = {sol:.4f}\")"
   ]
  },
  {
   "cell_type": "markdown",
   "metadata": {},
   "source": [
    "Wyniki zaprezentujemy na wykresie"
   ]
  },
  {
   "cell_type": "code",
   "execution_count": 603,
   "metadata": {},
   "outputs": [
    {
     "data": {
      "image/png": "[encoded data removed]",
      "text/plain": [
       "<Figure size 640x480 with 1 Axes>"
      ]
     },
     "metadata": {},
     "output_type": "display_data"
    }
   ],
   "source": [
    "x_vals = np.linspace(0, 1.5, 500)\n",
    "y_vals = [f(x) for x in x_vals]\n",
    "\n",
    "plt.plot(x_vals, y_vals, label=\"f(x) = cos(x) - 3*sin(tan(x)-1)\", color='b')\n",
    "plt.axhline(0, color='black', linewidth=1)\n",
    "plt.title(\"Wykres funkcji f(x) wraz z rozwiązaniami\")\n",
    "plt.xlabel(\"x\")\n",
    "plt.ylabel(\"f(x)\")\n",
    "\n",
    "for sol in solutions:\n",
    "    plt.plot(sol, f(sol), 'ro')\n",
    "\n",
    "plt.legend()\n",
    "plt.show()"
   ]
  },
  {
   "cell_type": "markdown",
   "metadata": {},
   "source": [
    "Zgadza się."
   ]
  },
  {
   "cell_type": "markdown",
   "metadata": {},
   "source": [
    "# Zadanie 6"
   ]
  },
  {
   "cell_type": "code",
   "execution_count": 604,
   "metadata": {},
   "outputs": [],
   "source": [
    "def w(x):\n",
    "    return x**4 + (5+1j)*x**3 - (8-5j)*x**2 + (30-14j)*x - 84 "
   ]
  },
  {
   "cell_type": "markdown",
   "metadata": {},
   "source": [
    "Funkcja przyjmuje wartości zespolone, więc skorzystamy z metody Laguerre'a"
   ]
  },
  {
   "cell_type": "code",
   "execution_count": 606,
   "metadata": {},
   "outputs": [
    {
     "name": "stdout",
     "output_type": "stream",
     "text": [
      "Znaleziono pierwiastki: [ 2.+0.j -0.+2.j  0.-3.j -7.+0.j]:\n"
     ]
    }
   ],
   "source": [
    "polynomials = [-84, 30-14j, -8+5j, 5+1j, 1]\n",
    "roots = polyRoots(polynomials)\n",
    "print(\"Znaleziono pierwiastki: {}:\".format(np.round(roots)))"
   ]
  }
 ],
 "metadata": {
  "kernelspec": {
   "display_name": "Python 3",
   "language": "python",
   "name": "python3"
  },
  "language_info": {
   "codemirror_mode": {
    "name": "ipython",
    "version": 3
   },
   "file_extension": ".py",
   "mimetype": "text/x-python",
   "name": "python",
   "nbconvert_exporter": "python",
   "pygments_lexer": "ipython3",
   "version": "3.12.2"
  }
 },
 "nbformat": 4,
 "nbformat_minor": 2
}
