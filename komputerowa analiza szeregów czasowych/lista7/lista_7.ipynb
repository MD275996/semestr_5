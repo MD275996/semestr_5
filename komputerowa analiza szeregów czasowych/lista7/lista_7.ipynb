{
 "cells": [
  {
   "cell_type": "markdown",
   "metadata": {},
   "source": [
    "# Zadanie 1"
   ]
  },
  {
   "cell_type": "code",
   "execution_count": 104,
   "metadata": {},
   "outputs": [],
   "source": [
    "import numpy as np\n",
    "import matplotlib.pyplot as plt\n",
    "from statsmodels.tsa.arima_process import ArmaProcess"
   ]
  },
  {
   "cell_type": "code",
   "execution_count": 105,
   "metadata": {},
   "outputs": [],
   "source": [
    "def emp_kow(X_t, h):\n",
    "    n = len(X_t)\n",
    "    mu = np.mean(X_t)\n",
    "    suma = 0\n",
    "    for i in range(n-abs(h)):\n",
    "        suma += (X_t[i]-mu)*(X_t[i+abs(h)] - mu)\n",
    "    return 1/n*suma\n",
    "\n",
    "def yule_walker(trajectory,p):\n",
    "    kow = np.zeros(p)\n",
    "    gamma = np.zeros((p,p))\n",
    "    for i in range(0,p):\n",
    "        kow[i] = emp_kow(trajectory,i+1)\n",
    "    for i in range(p):\n",
    "        for j in range(p):\n",
    "            gamma[i,j] = emp_kow(trajectory,np.abs(i-j))\n",
    "    phi = np.matmul(np.linalg.inv(gamma),kow.transpose())\n",
    "    sigma_sqr = emp_kow(trajectory,0) - np.matmul(phi,kow.transpose())\n",
    "    return phi, sigma_sqr\n",
    "\n",
    "def simulate_AR(phi,sigma, n = 10000):\n",
    "    ar_process = ArmaProcess(phi, ma=1)\n",
    "    return ar_process.generate_sample(nsample = n, scale = np.sqrt(sigma)) "
   ]
  },
  {
   "cell_type": "code",
   "execution_count": 106,
   "metadata": {},
   "outputs": [],
   "source": [
    "phi = np.array([1, -0.2, -0.4])\n",
    "sigma_sqr = 1\n",
    "n = 1000\n",
    "m=100\n",
    "\n",
    "phi1_hat = np.zeros(m)\n",
    "phi2_hat = np.zeros(m)\n",
    "sigma_hat = np.zeros(m)\n",
    "\n",
    "for i in range(m):\n",
    "    sim_data = simulate_AR(phi,sigma_sqr,n)\n",
    "    phi_params, sigma_params = yule_walker(sim_data,2)\n",
    "    phi1_hat[i] =  phi_params[0]\n",
    "    phi2_hat[i] =  phi_params[1]\n",
    "    sigma_hat[i] = sigma_params"
   ]
  },
  {
   "cell_type": "code",
   "execution_count": 107,
   "metadata": {},
   "outputs": [
    {
     "data": {
      "text/plain": [
       "{'whiskers': [<matplotlib.lines.Line2D at 0x274a55c2030>,\n",
       "  <matplotlib.lines.Line2D at 0x274a55c20f0>,\n",
       "  <matplotlib.lines.Line2D at 0x274a55c3ec0>,\n",
       "  <matplotlib.lines.Line2D at 0x274a56141a0>,\n",
       "  <matplotlib.lines.Line2D at 0x274a5615250>,\n",
       "  <matplotlib.lines.Line2D at 0x274a5615550>],\n",
       " 'caps': [<matplotlib.lines.Line2D at 0x274a55c30e0>,\n",
       "  <matplotlib.lines.Line2D at 0x274a55c33e0>,\n",
       "  <matplotlib.lines.Line2D at 0x274a56144a0>,\n",
       "  <matplotlib.lines.Line2D at 0x274a5614710>,\n",
       "  <matplotlib.lines.Line2D at 0x274a56157c0>,\n",
       "  <matplotlib.lines.Line2D at 0x274a5615ac0>],\n",
       " 'boxes': [<matplotlib.lines.Line2D at 0x274a55c2ed0>,\n",
       "  <matplotlib.lines.Line2D at 0x274a55c3b90>,\n",
       "  <matplotlib.lines.Line2D at 0x274a5614f80>],\n",
       " 'medians': [<matplotlib.lines.Line2D at 0x274a55c36b0>,\n",
       "  <matplotlib.lines.Line2D at 0x274a56149e0>,\n",
       "  <matplotlib.lines.Line2D at 0x274a5615d90>],\n",
       " 'fliers': [<matplotlib.lines.Line2D at 0x274a55c3920>,\n",
       "  <matplotlib.lines.Line2D at 0x274a5614ce0>,\n",
       "  <matplotlib.lines.Line2D at 0x274a5616060>],\n",
       " 'means': []}"
      ]
     },
     "execution_count": 107,
     "metadata": {},
     "output_type": "execute_result"
    },
    {
     "data": {
      "image/png": "[encoded data removed]",
      "text/plain": [
       "<Figure size 1000x600 with 1 Axes>"
      ]
     },
     "metadata": {},
     "output_type": "display_data"
    }
   ],
   "source": [
    "plt.figure(figsize=(10,6))\n",
    "plt.boxplot([phi1_hat, phi2_hat, sigma_hat],labels=[\"phi1\", \"phi2\", \"sigma\"])"
   ]
  },
  {
   "cell_type": "markdown",
   "metadata": {},
   "source": [
    "# Zadanie 2"
   ]
  },
  {
   "cell_type": "code",
   "execution_count": 108,
   "metadata": {},
   "outputs": [],
   "source": [
    "def nw_phi(trajectory):\n",
    "    suma_1 = 0\n",
    "    suma_2 = 0\n",
    "    for i in range(1,len(trajectory)):\n",
    "        suma_1 += trajectory[i]*trajectory[i-1]\n",
    "        suma_2 += np.power(trajectory[i-1],2)\n",
    "    return suma_1/suma_2\n",
    "\n",
    "def nw_sigma(trajectory):\n",
    "    n = len(trajectory)\n",
    "    phi = nw_phi(trajectory)\n",
    "    suma = 0\n",
    "    for i in range(1,n):\n",
    "        suma += (trajectory[i] - phi*trajectory[i-1])**2\n",
    "    return suma/n "
   ]
  },
  {
   "cell_type": "code",
   "execution_count": 109,
   "metadata": {},
   "outputs": [],
   "source": [
    "phi1 = 0.1\n",
    "sigma_sqr = 0.5\n",
    "n = np.arange(100,1100,100)\n",
    "m = 100\n",
    "phi_hat_yw = np.zeros((m,10))\n",
    "phi_hat_nw = np.zeros((m,10))\n",
    "sigma_hat_yw = np.zeros((m,10))\n",
    "sigma_hat_nw = np.zeros((m,10))\n",
    "\n",
    "for i in range(m):\n",
    "    for j in range(10):\n",
    "        sim_data = simulate_AR(phi1,sigma_sqr,n[j])\n",
    "        phi_params, sigma_params = yule_walker(sim_data,2)\n",
    "        phi_hat_yw[i,j] =  phi_params[0]\n",
    "        sigma_hat_yw[i,j] = sigma_params\n",
    "\n",
    "        phi_hat_nw[i,j] = nw_phi(sim_data)\n",
    "        sigma_hat_nw[i,j] = nw_sigma(sim_data)"
   ]
  },
  {
   "cell_type": "code",
   "execution_count": 128,
   "metadata": {},
   "outputs": [
    {
     "data": {
      "text/plain": [
       "{'whiskers': [<matplotlib.lines.Line2D at 0x274ab394da0>,\n",
       "  <matplotlib.lines.Line2D at 0x274ab3950a0>,\n",
       "  <matplotlib.lines.Line2D at 0x274ab396000>,\n",
       "  <matplotlib.lines.Line2D at 0x274ab396270>,\n",
       "  <matplotlib.lines.Line2D at 0x274ab397080>,\n",
       "  <matplotlib.lines.Line2D at 0x274ab397320>,\n",
       "  <matplotlib.lines.Line2D at 0x274ab3c82c0>,\n",
       "  <matplotlib.lines.Line2D at 0x274ab3c8590>,\n",
       "  <matplotlib.lines.Line2D at 0x274ab3c9430>,\n",
       "  <matplotlib.lines.Line2D at 0x274ab3c9730>,\n",
       "  <matplotlib.lines.Line2D at 0x274ab3ca660>,\n",
       "  <matplotlib.lines.Line2D at 0x274ab3ca900>,\n",
       "  <matplotlib.lines.Line2D at 0x274ab3cb620>,\n",
       "  <matplotlib.lines.Line2D at 0x274ab3cb8f0>,\n",
       "  <matplotlib.lines.Line2D at 0x274ab4047a0>,\n",
       "  <matplotlib.lines.Line2D at 0x274ab4049e0>,\n",
       "  <matplotlib.lines.Line2D at 0x274ab405820>,\n",
       "  <matplotlib.lines.Line2D at 0x274ab405b20>,\n",
       "  <matplotlib.lines.Line2D at 0x274ab406930>,\n",
       "  <matplotlib.lines.Line2D at 0x274ab406bd0>],\n",
       " 'caps': [<matplotlib.lines.Line2D at 0x274ab395370>,\n",
       "  <matplotlib.lines.Line2D at 0x274ab3955e0>,\n",
       "  <matplotlib.lines.Line2D at 0x274ab396510>,\n",
       "  <matplotlib.lines.Line2D at 0x274ab396780>,\n",
       "  <matplotlib.lines.Line2D at 0x274ab397620>,\n",
       "  <matplotlib.lines.Line2D at 0x274ab397890>,\n",
       "  <matplotlib.lines.Line2D at 0x274ab3c8830>,\n",
       "  <matplotlib.lines.Line2D at 0x274ab3c8a40>,\n",
       "  <matplotlib.lines.Line2D at 0x274ab3c99d0>,\n",
       "  <matplotlib.lines.Line2D at 0x274ab3c9ca0>,\n",
       "  <matplotlib.lines.Line2D at 0x274ab3cab70>,\n",
       "  <matplotlib.lines.Line2D at 0x274ab3cade0>,\n",
       "  <matplotlib.lines.Line2D at 0x274ab3cbb90>,\n",
       "  <matplotlib.lines.Line2D at 0x274ab3cbe00>,\n",
       "  <matplotlib.lines.Line2D at 0x274ab404c80>,\n",
       "  <matplotlib.lines.Line2D at 0x274ab404f20>,\n",
       "  <matplotlib.lines.Line2D at 0x274ab405d30>,\n",
       "  <matplotlib.lines.Line2D at 0x274ab405fd0>,\n",
       "  <matplotlib.lines.Line2D at 0x274ab406ea0>,\n",
       "  <matplotlib.lines.Line2D at 0x274ab407170>],\n",
       " 'boxes': [<matplotlib.patches.PathPatch at 0x274ab0b00e0>,\n",
       "  <matplotlib.patches.PathPatch at 0x274ab395be0>,\n",
       "  <matplotlib.patches.PathPatch at 0x274ab396cf0>,\n",
       "  <matplotlib.patches.PathPatch at 0x274ab397e60>,\n",
       "  <matplotlib.patches.PathPatch at 0x274ab3c9070>,\n",
       "  <matplotlib.patches.PathPatch at 0x274ab3ca270>,\n",
       "  <matplotlib.patches.PathPatch at 0x274ab3cb3e0>,\n",
       "  <matplotlib.patches.PathPatch at 0x274aace4470>,\n",
       "  <matplotlib.patches.PathPatch at 0x274ab405430>,\n",
       "  <matplotlib.patches.PathPatch at 0x274ab4065d0>],\n",
       " 'medians': [<matplotlib.lines.Line2D at 0x274ab3958b0>,\n",
       "  <matplotlib.lines.Line2D at 0x274ab3969f0>,\n",
       "  <matplotlib.lines.Line2D at 0x274ab397b00>,\n",
       "  <matplotlib.lines.Line2D at 0x274ab3c8d10>,\n",
       "  <matplotlib.lines.Line2D at 0x274ab3c9fa0>,\n",
       "  <matplotlib.lines.Line2D at 0x274ab3cb080>,\n",
       "  <matplotlib.lines.Line2D at 0x274ab4040b0>,\n",
       "  <matplotlib.lines.Line2D at 0x274ab405190>,\n",
       "  <matplotlib.lines.Line2D at 0x274ab406240>,\n",
       "  <matplotlib.lines.Line2D at 0x274ab4073e0>],\n",
       " 'fliers': [<matplotlib.lines.Line2D at 0x274ab395b50>,\n",
       "  <matplotlib.lines.Line2D at 0x274ab396c60>,\n",
       "  <matplotlib.lines.Line2D at 0x274ab397dd0>,\n",
       "  <matplotlib.lines.Line2D at 0x274ab3c8fe0>,\n",
       "  <matplotlib.lines.Line2D at 0x274ab3ca2a0>,\n",
       "  <matplotlib.lines.Line2D at 0x274ab3cb350>,\n",
       "  <matplotlib.lines.Line2D at 0x274ab404350>,\n",
       "  <matplotlib.lines.Line2D at 0x274ab405460>,\n",
       "  <matplotlib.lines.Line2D at 0x274ab406510>,\n",
       "  <matplotlib.lines.Line2D at 0x274ab407620>],\n",
       " 'means': []}"
      ]
     },
     "execution_count": 128,
     "metadata": {},
     "output_type": "execute_result"
    },
    {
     "data": {
      "image/png": "[encoded data removed]",
      "text/plain": [
       "<Figure size 1200x800 with 1 Axes>"
      ]
     },
     "metadata": {},
     "output_type": "display_data"
    }
   ],
   "source": [
    "plt.figure(figsize=(12,8))\n",
    "plt.boxplot(phi_hat_yw,\n",
    "            labels = n,\n",
    "            patch_artist=True,\n",
    "            positions = n-15,\n",
    "            widths=15, \n",
    "            boxprops=dict(facecolor=\"orange\",color = \"orange\"))\n",
    "plt.boxplot(phi_hat_nw,\n",
    "            labels = n,\n",
    "            patch_artist=True,\n",
    "            positions = n + 15,\n",
    "            widths= 15,\n",
    "            boxprops=dict(facecolor=\"purple\",color = \"purple\"))"
   ]
  },
  {
   "cell_type": "code",
   "execution_count": 130,
   "metadata": {},
   "outputs": [
    {
     "data": {
      "text/plain": [
       "{'whiskers': [<matplotlib.lines.Line2D at 0x274abb9baa0>,\n",
       "  <matplotlib.lines.Line2D at 0x274abb9bd10>,\n",
       "  <matplotlib.lines.Line2D at 0x274abbc8c80>,\n",
       "  <matplotlib.lines.Line2D at 0x274abbc8f50>,\n",
       "  <matplotlib.lines.Line2D at 0x274abbc9d90>,\n",
       "  <matplotlib.lines.Line2D at 0x274abbca000>,\n",
       "  <matplotlib.lines.Line2D at 0x274abbcade0>,\n",
       "  <matplotlib.lines.Line2D at 0x274abbcb080>,\n",
       "  <matplotlib.lines.Line2D at 0x274abbcbef0>,\n",
       "  <matplotlib.lines.Line2D at 0x274ab9bc170>,\n",
       "  <matplotlib.lines.Line2D at 0x274ab9bcfb0>,\n",
       "  <matplotlib.lines.Line2D at 0x274ab9bd220>,\n",
       "  <matplotlib.lines.Line2D at 0x274ab9be0f0>,\n",
       "  <matplotlib.lines.Line2D at 0x274ab9be300>,\n",
       "  <matplotlib.lines.Line2D at 0x274ab9bf260>,\n",
       "  <matplotlib.lines.Line2D at 0x274ab9bf4a0>,\n",
       "  <matplotlib.lines.Line2D at 0x274ab9f83b0>,\n",
       "  <matplotlib.lines.Line2D at 0x274ab9f8680>,\n",
       "  <matplotlib.lines.Line2D at 0x274ab9f9610>,\n",
       "  <matplotlib.lines.Line2D at 0x274ab9f9880>],\n",
       " 'caps': [<matplotlib.lines.Line2D at 0x274abb9bf80>,\n",
       "  <matplotlib.lines.Line2D at 0x274abbc8290>,\n",
       "  <matplotlib.lines.Line2D at 0x274abbc91c0>,\n",
       "  <matplotlib.lines.Line2D at 0x274abbc9460>,\n",
       "  <matplotlib.lines.Line2D at 0x274abbca2a0>,\n",
       "  <matplotlib.lines.Line2D at 0x274abbca510>,\n",
       "  <matplotlib.lines.Line2D at 0x274abbcb2f0>,\n",
       "  <matplotlib.lines.Line2D at 0x274abbcb590>,\n",
       "  <matplotlib.lines.Line2D at 0x274ab9bc3e0>,\n",
       "  <matplotlib.lines.Line2D at 0x274ab9bc6b0>,\n",
       "  <matplotlib.lines.Line2D at 0x274ab9bd520>,\n",
       "  <matplotlib.lines.Line2D at 0x274ab9bd7f0>,\n",
       "  <matplotlib.lines.Line2D at 0x274ab9be600>,\n",
       "  <matplotlib.lines.Line2D at 0x274ab9be8d0>,\n",
       "  <matplotlib.lines.Line2D at 0x274ab9bf7a0>,\n",
       "  <matplotlib.lines.Line2D at 0x274ab9bfa40>,\n",
       "  <matplotlib.lines.Line2D at 0x274ab9f8950>,\n",
       "  <matplotlib.lines.Line2D at 0x274ab9f8c50>,\n",
       "  <matplotlib.lines.Line2D at 0x274ab9f9b20>,\n",
       "  <matplotlib.lines.Line2D at 0x274ab9f9e20>],\n",
       " 'boxes': [<matplotlib.patches.PathPatch at 0x274abb9b770>,\n",
       "  <matplotlib.patches.PathPatch at 0x274abbc8890>,\n",
       "  <matplotlib.patches.PathPatch at 0x274abbc9a60>,\n",
       "  <matplotlib.patches.PathPatch at 0x274abbcaab0>,\n",
       "  <matplotlib.patches.PathPatch at 0x274abbcbb30>,\n",
       "  <matplotlib.patches.PathPatch at 0x274ab9bcbc0>,\n",
       "  <matplotlib.patches.PathPatch at 0x274ab9bdd60>,\n",
       "  <matplotlib.patches.PathPatch at 0x274ab9be450>,\n",
       "  <matplotlib.patches.PathPatch at 0x274ab9bff80>,\n",
       "  <matplotlib.patches.PathPatch at 0x274ab9f9220>],\n",
       " 'medians': [<matplotlib.lines.Line2D at 0x274abbc8530>,\n",
       "  <matplotlib.lines.Line2D at 0x274abbc9730>,\n",
       "  <matplotlib.lines.Line2D at 0x274abbca7b0>,\n",
       "  <matplotlib.lines.Line2D at 0x274abbcb800>,\n",
       "  <matplotlib.lines.Line2D at 0x274ab9bc950>,\n",
       "  <matplotlib.lines.Line2D at 0x274ab9bdaf0>,\n",
       "  <matplotlib.lines.Line2D at 0x274ab9bebd0>,\n",
       "  <matplotlib.lines.Line2D at 0x274ab9bfcb0>,\n",
       "  <matplotlib.lines.Line2D at 0x274ab9f8ec0>,\n",
       "  <matplotlib.lines.Line2D at 0x274ab9fa030>],\n",
       " 'fliers': [<matplotlib.lines.Line2D at 0x274abbc8800>,\n",
       "  <matplotlib.lines.Line2D at 0x274abbc9940>,\n",
       "  <matplotlib.lines.Line2D at 0x274abbca9c0>,\n",
       "  <matplotlib.lines.Line2D at 0x274abbcbaa0>,\n",
       "  <matplotlib.lines.Line2D at 0x274ab9bcbf0>,\n",
       "  <matplotlib.lines.Line2D at 0x274ab9bdcd0>,\n",
       "  <matplotlib.lines.Line2D at 0x274ab9bee40>,\n",
       "  <matplotlib.lines.Line2D at 0x274ab9bfef0>,\n",
       "  <matplotlib.lines.Line2D at 0x274ab9f9190>,\n",
       "  <matplotlib.lines.Line2D at 0x274ab9fa300>],\n",
       " 'means': []}"
      ]
     },
     "execution_count": 130,
     "metadata": {},
     "output_type": "execute_result"
    },
    {
     "data": {
      "image/png": "[encoded data removed]",
      "text/plain": [
       "<Figure size 1200x800 with 1 Axes>"
      ]
     },
     "metadata": {},
     "output_type": "display_data"
    }
   ],
   "source": [
    "plt.figure(figsize=(12,8))\n",
    "plt.boxplot(sigma_hat_yw,\n",
    "            labels = n,\n",
    "            patch_artist=True,\n",
    "            positions = n-15,\n",
    "            widths=15, \n",
    "            boxprops=dict(facecolor=\"orange\",color = \"orange\"))\n",
    "plt.boxplot(sigma_hat_nw,\n",
    "            labels = n,\n",
    "            patch_artist=True,\n",
    "            positions = n + 15,\n",
    "            widths= 15,\n",
    "            boxprops=dict(facecolor=\"purple\",color = \"purple\"))"
   ]
  },
  {
   "cell_type": "markdown",
   "metadata": {},
   "source": [
    "# Zadanie 5"
   ]
  },
  {
   "cell_type": "code",
   "execution_count": 131,
   "metadata": {},
   "outputs": [],
   "source": [
    "phi1 = 0.2\n",
    "phi2 = 0.4\n",
    "sigma = 1\n",
    "\n",
    "n = 50\n",
    "\n",
    "traj = simulate_AR([phi1, phi2],sigma,n)\n",
    "p = np.arange(0,11,1)\n",
    "\n"
   ]
  }
 ],
 "metadata": {
  "kernelspec": {
   "display_name": "Python 3",
   "language": "python",
   "name": "python3"
  },
  "language_info": {
   "codemirror_mode": {
    "name": "ipython",
    "version": 3
   },
   "file_extension": ".py",
   "mimetype": "text/x-python",
   "name": "python",
   "nbconvert_exporter": "python",
   "pygments_lexer": "ipython3",
   "version": "3.12.2"
  }
 },
 "nbformat": 4,
 "nbformat_minor": 2
}
